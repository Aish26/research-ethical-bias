{
  "nbformat": 4,
  "nbformat_minor": 0,
  "metadata": {
    "colab": {
      "provenance": [],
      "gpuType": "A100"
    },
    "kernelspec": {
      "name": "python3",
      "display_name": "Python 3"
    },
    "language_info": {
      "name": "python"
    },
    "accelerator": "GPU"
  },
  "cells": [
    {
      "cell_type": "code",
      "execution_count": null,
      "metadata": {
        "colab": {
          "base_uri": "https://localhost:8080/"
        },
        "id": "hjBBKF980V76",
        "outputId": "d3ddc9d5-19c2-4dd2-d58d-7f936c42c90c"
      },
      "outputs": [
        {
          "output_type": "stream",
          "name": "stdout",
          "text": [
            "Looking in indexes: https://pypi.org/simple, https://us-python.pkg.dev/colab-wheels/public/simple/\n",
            "Collecting pyspark\n",
            "  Downloading pyspark-3.4.0.tar.gz (310.8 MB)\n",
            "\u001b[2K     \u001b[90m━━━━━━━━━━━━━━━━━━━━━━━━━━━━━━━━━━━━━━━\u001b[0m \u001b[32m310.8/310.8 MB\u001b[0m \u001b[31m4.2 MB/s\u001b[0m eta \u001b[36m0:00:00\u001b[0m\n",
            "\u001b[?25h  Preparing metadata (setup.py) ... \u001b[?25l\u001b[?25hdone\n",
            "Requirement already satisfied: py4j==0.10.9.7 in /usr/local/lib/python3.10/dist-packages (from pyspark) (0.10.9.7)\n",
            "Building wheels for collected packages: pyspark\n",
            "  Building wheel for pyspark (setup.py) ... \u001b[?25l\u001b[?25hdone\n",
            "  Created wheel for pyspark: filename=pyspark-3.4.0-py2.py3-none-any.whl size=311317130 sha256=2897a3da6f18af15dd676a53b75cfaf384f6883cd50419f74a67728326475268\n",
            "  Stored in directory: /root/.cache/pip/wheels/7b/1b/4b/3363a1d04368e7ff0d408e57ff57966fcdf00583774e761327\n",
            "Successfully built pyspark\n",
            "Installing collected packages: pyspark\n",
            "Successfully installed pyspark-3.4.0\n"
          ]
        }
      ],
      "source": [
        "!pip install pyspark"
      ]
    },
    {
      "cell_type": "code",
      "source": [
        "from pyspark.sql import SparkSession\n",
        "from pyspark import SparkConf, SparkContext\n",
        "from datetime import datetime, date, timedelta\n",
        "from dateutil import relativedelta\n",
        "from pyspark.sql import SQLContext, Row\n",
        "from pyspark.sql.types import *\n",
        "from pyspark.sql.functions import *\n",
        "from pyspark.sql import DataFrame\n",
        "from pyspark.sql.functions import *\n",
        "from pyspark.sql.functions import to_timestamp, to_date\n",
        "from pyspark.sql import functions as F\n",
        "from pyspark.sql.functions import collect_list, collect_set, concat, first, array_distinct, col, size, expr\n",
        "from pyspark.sql import DataFrame\n",
        "import random\n",
        "import pandas as pd\n",
        "# --------------------------------------------------------------\n",
        "spark = SparkSession\\\n",
        "        .builder\\\n",
        "        .getOrCreate()"
      ],
      "metadata": {
        "id": "FXx_k2B15Ui0"
      },
      "execution_count": null,
      "outputs": []
    },
    {
      "cell_type": "code",
      "source": [
        "from google.colab import drive\n",
        "drive.mount('/content/drive')"
      ],
      "metadata": {
        "colab": {
          "base_uri": "https://localhost:8080/"
        },
        "id": "EYbVbWBz5Z3R",
        "outputId": "55dc95ed-9cf4-4483-8cdb-dfe09901b1bf"
      },
      "execution_count": null,
      "outputs": [
        {
          "output_type": "stream",
          "name": "stdout",
          "text": [
            "Mounted at /content/drive\n"
          ]
        }
      ]
    },
    {
      "cell_type": "code",
      "source": [
        "import os\n",
        "os.environ[\"JAVA_HOME\"] = \"/usr/lib/jvm/java-8-openjdk-amd64\"\n",
        "os.environ[\"SPARK_HOME\"] = \"/content/spark-3.1.2-bin-hadoop3.2\""
      ],
      "metadata": {
        "id": "6Emby7xs5cNI"
      },
      "execution_count": null,
      "outputs": []
    },
    {
      "cell_type": "code",
      "source": [
        "!pip install emoji"
      ],
      "metadata": {
        "colab": {
          "base_uri": "https://localhost:8080/"
        },
        "id": "uIHAxfPP5f-g",
        "outputId": "ea56bfc4-489f-476b-87cb-a791e1f5e187"
      },
      "execution_count": null,
      "outputs": [
        {
          "output_type": "stream",
          "name": "stdout",
          "text": [
            "Looking in indexes: https://pypi.org/simple, https://us-python.pkg.dev/colab-wheels/public/simple/\n",
            "Collecting emoji\n",
            "  Downloading emoji-2.4.0.tar.gz (353 kB)\n",
            "\u001b[2K     \u001b[90m━━━━━━━━━━━━━━━━━━━━━━━━━━━━━━━━━━━━━━\u001b[0m \u001b[32m353.7/353.7 kB\u001b[0m \u001b[31m30.3 MB/s\u001b[0m eta \u001b[36m0:00:00\u001b[0m\n",
            "\u001b[?25h  Preparing metadata (setup.py) ... \u001b[?25l\u001b[?25hdone\n",
            "Building wheels for collected packages: emoji\n",
            "  Building wheel for emoji (setup.py) ... \u001b[?25l\u001b[?25hdone\n",
            "  Created wheel for emoji: filename=emoji-2.4.0-py2.py3-none-any.whl size=350809 sha256=1e0e3fee02d6dc2569baf991dfdd00edb699758b51d5be292ed16b2d3d9757fd\n",
            "  Stored in directory: /root/.cache/pip/wheels/79/29/1c/234cae4632803c2ba4a76a71a679eb1383cf590775714e2a21\n",
            "Successfully built emoji\n",
            "Installing collected packages: emoji\n",
            "Successfully installed emoji-2.4.0\n"
          ]
        }
      ]
    },
    {
      "cell_type": "code",
      "source": [
        "from pyspark.sql import SparkSession\n",
        "from pyspark import SparkConf, SparkContext\n",
        "from datetime import datetime, date, timedelta\n",
        "from dateutil import relativedelta\n",
        "from pyspark.sql import SQLContext, Row\n",
        "from pyspark.sql.types import *\n",
        "from pyspark.sql.functions import *\n",
        "from pyspark.sql import DataFrame\n",
        "from pyspark.sql.functions import *\n",
        "from pyspark.sql.functions import to_timestamp, to_date\n",
        "from pyspark.sql import functions as F\n",
        "from pyspark.sql.functions import collect_list, collect_set, concat, first, array_distinct, col, size, expr\n",
        "import random\n",
        "import pandas as pd\n",
        "from pyspark.sql import SQLContext\n",
        "from pyspark.sql.functions import monotonically_increasing_id\n",
        "import pyspark.sql.functions as F\n",
        "from pyspark.sql.functions import concat, col, lit, when, max\n",
        "from pyspark.sql.window import Window\n",
        "import matplotlib.pyplot as plt\n",
        "import networkx as nx\n",
        "import functools\n",
        "import operator\n",
        "import re\n",
        "import emoji\n",
        "from collections import Counter\n",
        "from pyspark.ml.regression import LinearRegression\n",
        "from pyspark.ml import Pipeline\n",
        "from pyspark.ml.linalg import Vectors\n",
        "from pyspark.ml.feature import VectorAssembler, StringIndexer, OneHotEncoder"
      ],
      "metadata": {
        "id": "02rm5iOc5ip_"
      },
      "execution_count": null,
      "outputs": []
    },
    {
      "cell_type": "code",
      "source": [
        "filename = '/content/drive/MyDrive/BigData_HW4/cc.parquet'\n",
        "\n",
        "cc = spark.read.parquet(filename)\n",
        "\n",
        "cc.show()"
      ],
      "metadata": {
        "colab": {
          "base_uri": "https://localhost:8080/"
        },
        "id": "AaWXTX3y5kOv",
        "outputId": "3064edc8-96b2-4be0-f913-80139aa24f96"
      },
      "execution_count": null,
      "outputs": [
        {
          "output_type": "stream",
          "name": "stdout",
          "text": [
            "+----+--------+----------------------+\n",
            "|user|lifetime|clustering_coefficient|\n",
            "+----+--------+----------------------+\n",
            "|   2|       0|                   0.0|\n",
            "|   2|       1|                   0.0|\n",
            "|   2|       2|                   0.0|\n",
            "|   2|       3|                   0.0|\n",
            "|   2|       4|                   0.0|\n",
            "|   2|       5|                   0.0|\n",
            "|   2|       6|                   0.0|\n",
            "|   2|       7|                   0.0|\n",
            "|   2|       8|                   0.0|\n",
            "|   2|       9|                   0.0|\n",
            "|   2|      10|                   0.0|\n",
            "|   2|      11|                   0.0|\n",
            "|   2|      12|                   0.0|\n",
            "|   3|       0|                   0.0|\n",
            "|   3|       1|                   0.0|\n",
            "|   3|       2|                   0.0|\n",
            "|   3|       3|                   0.0|\n",
            "|   3|       4|                   0.0|\n",
            "|   3|       5|                   0.0|\n",
            "|   3|       6|                   0.0|\n",
            "+----+--------+----------------------+\n",
            "only showing top 20 rows\n",
            "\n"
          ]
        }
      ]
    },
    {
      "cell_type": "code",
      "source": [
        "filename = '/content/drive/MyDrive/BigData_HW4/combined_df.csv'\n",
        "\n",
        "combined_df = spark.read.csv(filename)\n",
        "\n",
        "combined_df.show()"
      ],
      "metadata": {
        "colab": {
          "base_uri": "https://localhost:8080/"
        },
        "id": "pVVSB7Jb6jG5",
        "outputId": "0ce23207-f080-40d1-db5e-77bbcfa1d1ea"
      },
      "execution_count": null,
      "outputs": [
        {
          "output_type": "stream",
          "name": "stdout",
          "text": [
            "+-----+--------+----------------+--------------------+--------------------+-----------+--------------------+--------------------+----+--------------------+--------------------+-------------------+-------------------+--------------------+--------------------+--------------------+--------------------+--------------------+--------------------+--------------------+--------------------+-------------------+-------------------+-----------------+-----------------+--------------+--------------------+--------------------+---------------+--------------------+--------------------+---------------+---------------+--------------------+--------------------+------+\n",
            "|  _c0|     _c1|             _c2|                 _c3|                 _c4|        _c5|                 _c6|                 _c7| _c8|                 _c9|                _c10|               _c11|               _c12|                _c13|                _c14|                _c15|                _c16|                _c17|                _c18|                _c19|                _c20|               _c21|               _c22|             _c23|             _c24|          _c25|                _c26|                _c27|           _c28|                _c29|                _c30|           _c31|           _c32|                _c33|                _c34|  _c35|\n",
            "+-----+--------+----------------+--------------------+--------------------+-----------+--------------------+--------------------+----+--------------------+--------------------+-------------------+-------------------+--------------------+--------------------+--------------------+--------------------+--------------------+--------------------+--------------------+--------------------+-------------------+-------------------+-----------------+-----------------+--------------+--------------------+--------------------+---------------+--------------------+--------------------+---------------+---------------+--------------------+--------------------+------+\n",
            "|user1|   user2|transaction_type|            datetime|         description|is_business|            story_id|             face_id| tag|attribute.gender....|attribute.gender....|attribute.age.range|attribute.age.value|attribute.pose.ya...|attribute.pose.pi...|attribute.pose.ro...|attribute.glass.c...|attribute.glass.v...|attribute.race.co...|attribute.race.value|attribute.smiling...|position.eye_left.y|position.eye_left.x|position.center.y|position.center.x|position.width|position.mouth_le...|position.mouth_le...|position.height|position.mouth_ri...|position.mouth_ri...|position.nose.y|position.nose.x|position.eye_right.y|position.eye_right.x|    id|\n",
            "|   34|     907|         payment|2016-02-01T03:20:...|              🐮🐷🦃|      false|56ae5e9bcd03c9af2...|aab0823088b9007a2...|null|             99.9999|              Female|                  6|                 28|          -13.082242|             -5.0E-6|            -5.30979|             97.3584|                None|  52.743300000000005|               Asian|              48.874|            32.7592|            49.0927|             38.5|             57.5|          33.0|             47.7224|             51.0633|           33.0|             46.8155|             64.2695|        40.6925|        54.8488|             31.4063|             63.6495|  34.0|\n",
            "|   34|  934623|         payment|2014-09-15T08:00:...|2nd place (350 - ...|      false|54163a4a7d0b0354e...|aab0823088b9007a2...|null|             99.9999|              Female|                  6|                 28|          -13.082242|             -5.0E-6|            -5.30979|             97.3584|                None|  52.743300000000005|               Asian|              48.874|            32.7592|            49.0927|             38.5|             57.5|          33.0|             47.7224|             51.0633|           33.0|             46.8155|             64.2695|        40.6925|        54.8488|             31.4063|             63.6495|  34.0|\n",
            "|   34|    5114|          charge|2014-07-21T23:31:...|          Giwa sauce|      false|53cd40587d0b0354e...|aab0823088b9007a2...|null|             99.9999|              Female|                  6|                 28|          -13.082242|             -5.0E-6|            -5.30979|             97.3584|                None|  52.743300000000005|               Asian|              48.874|            32.7592|            49.0927|             38.5|             57.5|          33.0|             47.7224|             51.0633|           33.0|             46.8155|             64.2695|        40.6925|        54.8488|             31.4063|             63.6495|  34.0|\n",
            "|   34|   35940|         payment|2014-10-24T02:16:...|             A bagel|      false|544954217d0b0354e...|aab0823088b9007a2...|null|             99.9999|              Female|                  6|                 28|          -13.082242|             -5.0E-6|            -5.30979|             97.3584|                None|  52.743300000000005|               Asian|              48.874|            32.7592|            49.0927|             38.5|             57.5|          33.0|             47.7224|             51.0633|           33.0|             46.8155|             64.2695|        40.6925|        54.8488|             31.4063|             63.6495|  34.0|\n",
            "|  159|   85310|         payment|2012-07-16T01:06:...|                Beer|      false|500306a5c5b30a098...|ab7e1fe73de2d9d3e...|null|             99.9841|                Male|                  5|                 17|          -23.174595|              1.3E-5|             34.9404|             99.3992|                None|             78.8102|               White|             99.0293|             27.925|            67.8277|             35.0|             69.0|          24.0|             36.4674|             61.5767|           24.0|             40.2735|             70.2088|        34.5763|        66.8355|             33.7006|             76.0944| 159.0|\n",
            "|  225|      52|         payment|2016-09-08T04:25:...|                 twc|      false|57d085cd23e064eac...|539717dda7fdc1301...|null|             94.3785|                Male|                  7|                 40|           -1.361873|              1.9E-5|            0.032427|             98.3534|                None|             99.9204|               White|             86.0631|            19.4532|            40.2829|             25.0|             45.0|          24.0|             27.9526|              39.347|           24.0|             28.0858|             49.8134|        26.9701|        43.8878|              19.458|             48.7656| 225.0|\n",
            "|  275|      11|          charge|2015-03-06T13:55:...|                 Sex|      false|54f94159cd03c9af2...|f9ec4d41874bde0a4...|null|             99.5859|                Male|                  8|                 36|            -0.47481|           -0.471274|             5.50388|              97.346|                None|             42.2542|               White|             96.8099|            24.6114|           29.99975|             28.5|             33.0|          15.0|            30.83405|            28.60275|           15.0|            31.34025|             36.2409|        28.7136|       33.38275|             25.2426|            36.55035| 275.0|\n",
            "|  275|12731459|         payment|2016-09-02T23:30:...|A romantic night ...|      false|57c9a92023e064eac...|f9ec4d41874bde0a4...|null|             99.5859|                Male|                  8|                 36|            -0.47481|           -0.471274|             5.50388|              97.346|                None|             42.2542|               White|             96.8099|            24.6114|           29.99975|             28.5|             33.0|          15.0|            30.83405|            28.60275|           15.0|            31.34025|             36.2409|        28.7136|       33.38275|             25.2426|            36.55035| 275.0|\n",
            "|  275|   47146|         payment|2015-03-29T08:15:...|   For being a dick.|      false|5517523307f81c2a1...|f9ec4d41874bde0a4...|null|             99.5859|                Male|                  8|                 36|            -0.47481|           -0.471274|             5.50388|              97.346|                None|             42.2542|               White|             96.8099|            24.6114|           29.99975|             28.5|             33.0|          15.0|            30.83405|            28.60275|           15.0|            31.34025|             36.2409|        28.7136|       33.38275|             25.2426|            36.55035| 275.0|\n",
            "|  312| 4040424|         payment|2016-02-13T09:33:...|         Babysitting|      false|56be8804cd03c9af2...|40d2320b52185b5e3...|null|              98.715|                Male|                 10|                 38|           -0.884955|              5.0E-6|            -2.89579|             99.2867|                None|   99.15129999999999|               White|             89.8722|            33.3471|            24.8513|             40.5|             32.5|          35.0|             49.7831|             25.8224|           35.0|             48.7075|             41.1229|        41.3017|        32.6651|             32.5111|             41.3782| 312.0|\n",
            "| 1255|  649266|         payment|2015-09-28T19:40:...|London walking ar...|      false|56093520cd03c9af2...|b979c74cce34ddfec...|null|             99.9999|                Male|                  5|                 27|           -3.237628|              8.0E-6|            -2.32365|             99.8959|                None|             97.8748|               White|             98.5176|            42.8507|            33.7887|             53.0|             44.0|          46.0|             64.3201|             32.7657|           46.0|             62.5381|             56.7975|        56.4298|        43.0967|             42.0062|             54.6007|1255.0|\n",
            "| 1255| 8470959|         payment|2016-03-02T02:47:...|Chocolate square ...|      false|56d5e3becd03c9af2...|b979c74cce34ddfec...|null|             99.9999|                Male|                  5|                 27|           -3.237628|              8.0E-6|            -2.32365|             99.8959|                None|             97.8748|               White|             98.5176|            42.8507|            33.7887|             53.0|             44.0|          46.0|             64.3201|             32.7657|           46.0|             62.5381|             56.7975|        56.4298|        43.0967|             42.0062|             54.6007|1255.0|\n",
            "| 1255| 5935714|         payment|2015-12-18T01:58:...|  Chocolate extreme!|      false|5672f7aecd03c9af2...|b979c74cce34ddfec...|null|             99.9999|                Male|                  5|                 27|           -3.237628|              8.0E-6|            -2.32365|             99.8959|                None|             97.8748|               White|             98.5176|            42.8507|            33.7887|             53.0|             44.0|          46.0|             64.3201|             32.7657|           46.0|             62.5381|             56.7975|        56.4298|        43.0967|             42.0062|             54.6007|1255.0|\n",
            "| 1508| 1002607|         payment|2014-10-02T01:18:...|One billion peopl...|      false|542c455e7d0b0354e...|f5b1ca730615b47b4...|null|             99.9048|                Male|                  6|                 29|           19.259108|              4.0E-5|            -12.5751|             91.6768|              Normal|   97.66550000000001|               White|             4.68842|             26.094|            43.8527|             35.0|             57.0|          42.0|             47.8766|             50.5114|           42.0|             41.8077|             66.2735|        35.0784|        56.6378|             22.0221|             62.1066|1508.0|\n",
            "| 2033|     136|         payment|2013-09-27T09:02:...|            Sausages|      false|5244e739d56b6bac5...|a88eeaf0463fa7d84...|null|             99.9987|                Male|                  5|                 18|          -21.770293|            -3.42E-4|            -27.8828|             99.6695|                None|   98.87780000000001|               White|             41.3474|            27.2415|            47.3225|             31.0|             53.0|          24.0|             37.2672|             51.2001|           24.0|             36.3389|              58.691|        31.0678|        51.9779|             22.1568|             56.9328|2033.0|\n",
            "| 2033|   66830|         payment|2015-10-31T03:09:...|           Uber eats|      false|5633ce73cd03c9af2...|a88eeaf0463fa7d84...|null|             99.9987|                Male|                  5|                 18|          -21.770293|            -3.42E-4|            -27.8828|             99.6695|                None|   98.87780000000001|               White|             41.3474|            27.2415|            47.3225|             31.0|             53.0|          24.0|             37.2672|             51.2001|           24.0|             36.3389|              58.691|        31.0678|        51.9779|             22.1568|             56.9328|2033.0|\n",
            "| 2349| 1045738|         payment|2014-07-14T00:06:...|       Proper brunch|      false|53c2bcaf7d0b0354e...|03b25100beaa94b51...|null|             99.9858|              Female|                  5|                 11|           14.057914|             -9.1E-5|            0.673755|             99.6966|                None|              99.275|               Black|             87.5155|            27.5763|            36.8124|             33.0|             45.0|          24.0|             38.8991|             36.2391|           24.0|             39.7199|             50.1658|        34.8135|        43.1362|             27.7291|             49.8058|2349.0|\n",
            "| 2349| 1045738|         payment|2014-07-14T00:06:...|       Proper brunch|      false|53c2bcaf7d0b0354e...|a7f9441f65241148e...|null|             99.9738|                Male|                  6|                 24|          -24.425313|              1.3E-5|            -5.46133|             99.8455|                None|             96.0643|               White|             2.56153|            35.8837|            56.3742|             41.5|             63.5|          27.0|             52.4909|             58.3486|           27.0|             51.8534|             69.5382|        44.3179|        58.4294|             34.6216|              69.575|2349.0|\n",
            "| 2349|  792891|         payment|2014-06-10T21:02:...|                  🎿|      false|53970fe07d0b0354e...|03b25100beaa94b51...|null|             99.9858|              Female|                  5|                 11|           14.057914|             -9.1E-5|            0.673755|             99.6966|                None|              99.275|               Black|             87.5155|            27.5763|            36.8124|             33.0|             45.0|          24.0|             38.8991|             36.2391|           24.0|             39.7199|             50.1658|        34.8135|        43.1362|             27.7291|             49.8058|2349.0|\n",
            "+-----+--------+----------------+--------------------+--------------------+-----------+--------------------+--------------------+----+--------------------+--------------------+-------------------+-------------------+--------------------+--------------------+--------------------+--------------------+--------------------+--------------------+--------------------+--------------------+-------------------+-------------------+-----------------+-----------------+--------------+--------------------+--------------------+---------------+--------------------+--------------------+---------------+---------------+--------------------+--------------------+------+\n",
            "only showing top 20 rows\n",
            "\n"
          ]
        }
      ]
    },
    {
      "cell_type": "code",
      "source": [
        "filename = '/content/drive/MyDrive/BigData_HW4/cumm_friends.parquet'\n",
        "\n",
        "cumm_friends = spark.read.parquet(filename)\n",
        "\n",
        "cumm_friends.show()"
      ],
      "metadata": {
        "colab": {
          "base_uri": "https://localhost:8080/"
        },
        "id": "M7daMZdF639L",
        "outputId": "e59ad59a-c051-45ed-871a-77603fdcdcb2"
      },
      "execution_count": null,
      "outputs": [
        {
          "output_type": "stream",
          "name": "stdout",
          "text": [
            "+----+---------------+-------------+-----------+\n",
            "|user|lifetime_marker|count_friends|cum_friends|\n",
            "+----+---------------+-------------+-----------+\n",
            "|   2|              0|            1|          1|\n",
            "|   2|              1|            0|          1|\n",
            "|   2|             10|            0|          1|\n",
            "|   2|             11|            0|          1|\n",
            "|   2|             12|            0|          1|\n",
            "|   2|              2|            0|          1|\n",
            "|   2|              3|            0|          1|\n",
            "|   2|              4|            0|          1|\n",
            "|   2|              5|            0|          1|\n",
            "|   2|              6|            0|          1|\n",
            "|   2|              7|            0|          1|\n",
            "|   2|              8|            0|          1|\n",
            "|   2|              9|            0|          1|\n",
            "|   3|              0|            1|          1|\n",
            "|   3|              1|            4|          5|\n",
            "|   3|             10|            0|          5|\n",
            "|   3|             11|            0|          5|\n",
            "|   3|             12|            0|          5|\n",
            "|   3|              2|            0|          5|\n",
            "|   3|              3|            0|          5|\n",
            "+----+---------------+-------------+-----------+\n",
            "only showing top 20 rows\n",
            "\n"
          ]
        }
      ]
    },
    {
      "cell_type": "code",
      "source": [
        "filename = '/content/drive/MyDrive/BigData_HW4/dynamic_profile.parquet'\n",
        "\n",
        "dynamic_profile = spark.read.parquet(filename)\n",
        "\n",
        "dynamic_profile.show(5)"
      ],
      "metadata": {
        "colab": {
          "base_uri": "https://localhost:8080/"
        },
        "id": "kpK6eqI57JeD",
        "outputId": "479a5f2c-0b29-4c24-8080-4634bb04a911"
      },
      "execution_count": null,
      "outputs": [
        {
          "output_type": "stream",
          "name": "stdout",
          "text": [
            "+-----+---------------+--------+----+-----+----+---------------+--------+------+-------------+------+-------+\n",
            "|user1|lifetime_marker|activity|cash|event|food|illegal_sarcasm|no_class|people|trasportation|travel|utility|\n",
            "+-----+---------------+--------+----+-----+----+---------------+--------+------+-------------+------+-------+\n",
            "|    2|              0|     0.0| 0.0|  0.0| 0.0|            0.0|     0.0|   1.0|          0.0|   0.0|    0.0|\n",
            "|    3|              0|     0.0| 0.0|  0.0| 0.0|            0.0|     0.0|   1.0|          0.0|   0.0|    0.0|\n",
            "|    3|              1|     0.0| 0.0|  0.0| 0.2|            0.0|     0.2|   0.4|          0.0|   0.2|    0.0|\n",
            "|    4|              0|     0.0| 0.0|  0.0| 1.0|            0.0|     0.0|   0.0|          0.0|   0.0|    0.0|\n",
            "|    4|              1|     0.0| 0.0|  0.0| 0.0|            0.0|     0.0|   1.0|          0.0|   0.0|    0.0|\n",
            "+-----+---------------+--------+----+-----+----+---------------+--------+------+-------------+------+-------+\n",
            "only showing top 5 rows\n",
            "\n"
          ]
        }
      ]
    },
    {
      "cell_type": "code",
      "source": [
        "# Group by 'user1' and aggregate the columns\n",
        "grouped_dynamic_df = dynamic_profile.groupBy('user1').agg(\n",
        "    sum('activity').alias('total_activity'),\n",
        "    sum('cash').alias('total_cash'),\n",
        "    sum('event').alias('total_event'),\n",
        "    sum('food').alias('total_food'),\n",
        "    sum('illegal_sarcasm').alias('total_illegal_sarcasm'),\n",
        "    sum('no_class').alias('total_no_class'),\n",
        "    sum('people').alias('total_people'),\n",
        "    sum('trasportation').alias('total_transportation'),\n",
        "    sum('travel').alias('total_travel'),\n",
        "    sum('utility').alias('total_utility')\n",
        ")\n",
        "\n",
        "# Show the resulting DataFrame\n",
        "grouped_dynamic_df.show()"
      ],
      "metadata": {
        "colab": {
          "base_uri": "https://localhost:8080/"
        },
        "id": "MzulTHkTCSR2",
        "outputId": "f7c0ff39-4ef3-442c-93ba-b53c12429753"
      },
      "execution_count": null,
      "outputs": [
        {
          "output_type": "stream",
          "name": "stdout",
          "text": [
            "+-----+--------------+----------+-----------+----------+---------------------+--------------+------------+--------------------+------------+-------------+\n",
            "|user1|total_activity|total_cash|total_event|total_food|total_illegal_sarcasm|total_no_class|total_people|total_transportation|total_travel|total_utility|\n",
            "+-----+--------------+----------+-----------+----------+---------------------+--------------+------------+--------------------+------------+-------------+\n",
            "| 2866|           1.0|       0.0|        0.0|       0.0|                  0.0|           0.0|         0.0|                 0.0|         0.0|          0.0|\n",
            "|28170|           0.0|       0.0|        0.0|       0.0|                  0.0|           1.0|         0.0|                 0.0|         0.0|          0.0|\n",
            "|28759|           0.0|       0.0|        0.0|       1.0|                  0.0|           0.0|         0.0|                 1.0|         0.0|          1.0|\n",
            "|33602|           0.0|       0.0|        0.0|       1.0|                  0.0|           0.0|         1.0|                 0.0|         0.0|          0.0|\n",
            "|36525|           0.0|       0.0|        0.0|       1.0|                  0.0|           0.0|         0.0|                 0.0|         0.0|          0.0|\n",
            "|47283|           2.0|       0.0|        0.0|       0.0|                  0.0|           0.0|         0.0|                 0.0|         0.0|          0.0|\n",
            "|51415|           1.0|       0.0|        0.0|       1.0|                  0.0|           0.0|         1.0|                 0.0|         0.0|          1.0|\n",
            "|53963|           0.0|       0.0|        0.0|       0.0|                  0.0|           1.0|         0.0|                 0.0|         0.0|          0.0|\n",
            "|63087|           0.0|       0.0|        0.0|       0.0|                  0.0|           1.0|         1.0|                 0.0|         0.0|          0.0|\n",
            "|64423|           0.0|       0.0|        0.0|       0.0|                  0.0|           1.0|         0.0|                 0.0|         0.0|          0.0|\n",
            "|65408|           0.0|       0.0|        0.0|       1.0|                  0.0|           0.0|         0.0|                 0.0|         0.0|          0.0|\n",
            "|67492|           1.5|       0.0|        0.0|       1.5|                  0.0|           1.0|         2.0|                 0.0|         0.0|          0.0|\n",
            "|67861|           0.0|       0.0|        0.0|       1.0|                  0.0|           0.0|         0.0|                 0.0|         0.0|          0.0|\n",
            "|68202|           1.0|       0.0|        0.0|       0.0|                  0.0|           0.0|         0.0|                 0.0|         0.0|          0.0|\n",
            "|71995|           0.0|       0.0|        0.0|       1.0|                  0.0|           0.0|         0.0|                 0.0|         0.0|          0.0|\n",
            "|72758|           0.0|       0.0|        0.0|       1.0|                  0.0|           0.0|         0.0|                 0.0|         0.0|          0.0|\n",
            "|74775|           0.0|       0.0|        0.0|       0.0|                  0.0|           1.0|         1.0|                 0.0|         0.0|          0.0|\n",
            "|87616|           0.0|       0.0|        0.0|       1.0|                  0.0|           1.0|         1.0|                 0.0|         0.0|          0.0|\n",
            "|91785|           0.0|       0.0|        0.0|       0.0|                  0.0|           1.0|         0.0|                 0.0|         0.0|          0.0|\n",
            "|94851|           1.0|       0.0|        0.0|       0.0|                  0.0|           0.0|         0.0|                 0.0|         0.0|          0.0|\n",
            "+-----+--------------+----------+-----------+----------+---------------------+--------------+------------+--------------------+------------+-------------+\n",
            "only showing top 20 rows\n",
            "\n"
          ]
        }
      ]
    },
    {
      "cell_type": "code",
      "source": [
        "# Specify the output file path\n",
        "output_path = \"/content/drive/MyDrive/BigData_HW4/grouped_dynamic_df.parquet\"\n",
        "\n",
        "# Write the DataFrame to Parquet\n",
        "grouped_dynamic_df.write.parquet(output_path,mode='overwrite')"
      ],
      "metadata": {
        "id": "dORTwBWXDlb_"
      },
      "execution_count": null,
      "outputs": []
    },
    {
      "cell_type": "code",
      "source": [
        "filename = '/content/drive/MyDrive/BigData_HW4/friends_friends.parquet'\n",
        "\n",
        "friends_friends = spark.read.parquet(filename)\n",
        "\n",
        "friends_friends.show(5)"
      ],
      "metadata": {
        "colab": {
          "base_uri": "https://localhost:8080/"
        },
        "id": "oA0cxKpv7kgK",
        "outputId": "1112c70d-351e-4f72-ecaf-b06d85608582"
      },
      "execution_count": null,
      "outputs": [
        {
          "output_type": "stream",
          "name": "stdout",
          "text": [
            "+----+---------------+-----------------+\n",
            "|user|lifetime_marker|assoc_assoc_count|\n",
            "+----+---------------+-----------------+\n",
            "|   2|              0|                0|\n",
            "|   2|              1|                0|\n",
            "|   2|              2|                0|\n",
            "|   2|              3|                0|\n",
            "|   2|              4|                0|\n",
            "+----+---------------+-----------------+\n",
            "only showing top 5 rows\n",
            "\n"
          ]
        }
      ]
    },
    {
      "cell_type": "code",
      "source": [
        "filename = '/content/drive/MyDrive/BigData_HW4/parquet_output/static_profile.parquet'\n",
        "\n",
        "static_profile = spark.read.parquet(filename)\n",
        "\n",
        "static_profile.show(5)"
      ],
      "metadata": {
        "colab": {
          "base_uri": "https://localhost:8080/"
        },
        "id": "c9Z7oCS67ziy",
        "outputId": "da35b4eb-3ed2-4e65-e88e-21355339673d"
      },
      "execution_count": null,
      "outputs": [
        {
          "output_type": "stream",
          "name": "stdout",
          "text": [
            "+-----+--------+----+-----+------+---------------+--------+------+-------------+------+-------+\n",
            "|user1|activity|cash|event|  food|illegal_sarcasm|no_class|people|trasportation|travel|utility|\n",
            "+-----+--------+----+-----+------+---------------+--------+------+-------------+------+-------+\n",
            "|    2|    null|null| null|  null|           null|    null|100.0%|         null|  null|   null|\n",
            "|    3|    null|null| null|16.67%|           null|  16.67%| 50.0%|         null|16.67%|   null|\n",
            "|    4|    null|null| null| 20.0%|           null|   20.0%| 40.0%|         null| 20.0%|   null|\n",
            "|   10|   10.0%|null| null| 60.0%|           null|    null| 30.0%|         null|  null|   null|\n",
            "|   11|    null|null| null| 32.0%|           4.0%|   12.0%| 36.0%|         null|  8.0%|   8.0%|\n",
            "+-----+--------+----+-----+------+---------------+--------+------+-------------+------+-------+\n",
            "only showing top 5 rows\n",
            "\n"
          ]
        }
      ]
    },
    {
      "cell_type": "code",
      "source": [
        "filename = '/content/drive/MyDrive/BigData_HW4/social_network.parquet'\n",
        "\n",
        "social_network = spark.read.parquet(filename)\n",
        "\n",
        "social_network.show(5)"
      ],
      "metadata": {
        "colab": {
          "base_uri": "https://localhost:8080/"
        },
        "id": "k88PLXnJ78gy",
        "outputId": "23c3878f-d863-4708-fbc6-d915471de5b3"
      },
      "execution_count": null,
      "outputs": [
        {
          "output_type": "stream",
          "name": "stdout",
          "text": [
            "+----+---------------+-------------+-----------------+----------------------+\n",
            "|user|lifetime_marker|count_friends|assoc_assoc_count|clustering_coefficient|\n",
            "+----+---------------+-------------+-----------------+----------------------+\n",
            "|   2|              0|            1|                0|                   0.0|\n",
            "|   2|              1|            0|                0|                   0.0|\n",
            "|   2|             10|            0|                0|                   0.0|\n",
            "|   2|             11|            0|                0|                   0.0|\n",
            "|   2|             12|            0|                0|                   0.0|\n",
            "+----+---------------+-------------+-----------------+----------------------+\n",
            "only showing top 5 rows\n",
            "\n"
          ]
        }
      ]
    },
    {
      "cell_type": "code",
      "source": [
        "# Group by 'user' and aggregate the columns\n",
        "grouped_social_df = social_network.groupBy('user').agg(\n",
        "    sum('count_friends').alias('total_count_friends'),\n",
        "    sum('assoc_assoc_count').alias('total_friends_friends_count'),\n",
        "    avg('clustering_coefficient').alias('avg_clustering_coefficient')\n",
        ")\n",
        "\n",
        "# Show the resulting DataFrame\n",
        "grouped_social_df.show()"
      ],
      "metadata": {
        "colab": {
          "base_uri": "https://localhost:8080/"
        },
        "id": "xrY4dNSB8GSX",
        "outputId": "177e6d42-8493-44c1-a272-fb34cb3642eb"
      },
      "execution_count": null,
      "outputs": [
        {
          "output_type": "stream",
          "name": "stdout",
          "text": [
            "+-----+-------------------+---------------------------+--------------------------+\n",
            "| user|total_count_friends|total_friends_friends_count|avg_clustering_coefficient|\n",
            "+-----+-------------------+---------------------------+--------------------------+\n",
            "| 2866|                  1|                          0|                       0.0|\n",
            "| 4935|                  1|                          0|                       0.0|\n",
            "|20735|                  1|                          0|                       0.0|\n",
            "|28170|                  1|                          1|                       0.0|\n",
            "|28759|                  3|                          1|                       0.0|\n",
            "|33602|                  2|                          0|                       0.0|\n",
            "|36525|                  1|                          0|                       0.0|\n",
            "|47283|                  3|                          1|                       0.0|\n",
            "|51415|                  4|                          0|                       0.0|\n",
            "|53963|                  1|                          0|                       0.0|\n",
            "|63087|                  2|                          1|                       0.0|\n",
            "|64423|                  1|                          0|                       0.0|\n",
            "|65220|                  1|                          0|                       0.0|\n",
            "|65408|                  1|                          1|                       0.0|\n",
            "|67492|                  6|                          2|                       0.0|\n",
            "|67861|                  1|                          0|                       0.0|\n",
            "|68202|                  1|                          0|                       0.0|\n",
            "|71995|                  1|                          0|                       0.0|\n",
            "|72758|                  1|                          0|                       0.0|\n",
            "|74775|                  2|                          0|                       0.0|\n",
            "+-----+-------------------+---------------------------+--------------------------+\n",
            "only showing top 20 rows\n",
            "\n"
          ]
        }
      ]
    },
    {
      "cell_type": "code",
      "source": [
        "# Specify the output file path\n",
        "output_path = \"/content/drive/MyDrive/BigData_HW4/grouped_social_df.parquet\"\n",
        "\n",
        "# Write the DataFrame to Parquet\n",
        "grouped_social_df.write.parquet(output_path,mode='overwrite')"
      ],
      "metadata": {
        "id": "A7WiwzvBA2q7"
      },
      "execution_count": null,
      "outputs": []
    },
    {
      "cell_type": "code",
      "source": [
        "grouped_social_df.count()\n",
        "\n",
        "# Print the row count\n",
        "print(\"Row count:\", grouped_social_df.count())"
      ],
      "metadata": {
        "colab": {
          "base_uri": "https://localhost:8080/"
        },
        "id": "I4k5a_H_9OfF",
        "outputId": "f5f4e11d-8013-4b45-8d3c-52d0b074e2f1"
      },
      "execution_count": null,
      "outputs": [
        {
          "output_type": "stream",
          "name": "stdout",
          "text": [
            "Row count: 15076\n"
          ]
        }
      ]
    },
    {
      "cell_type": "code",
      "source": [
        "filename = '/content/drive/MyDrive/BigData_HW4/spending_behavior.parquet'\n",
        "\n",
        "spending_behavior = spark.read.parquet(filename)\n",
        "\n",
        "spending_behavior.show(5)"
      ],
      "metadata": {
        "colab": {
          "base_uri": "https://localhost:8080/"
        },
        "id": "u8RB5ifH9ia-",
        "outputId": "9755a985-b369-42af-95bf-5a65e3808894"
      },
      "execution_count": null,
      "outputs": [
        {
          "output_type": "stream",
          "name": "stdout",
          "text": [
            "+-----+---------------+-------------------+--------------------+-------+------+----+--------+-----+------+----+-------+-------------+---------------+--------+\n",
            "|user1|lifetime_marker|          frequency|       cum_frequency|recency|people|food|activity|event|travel|cash|utility|trasportation|illegal_sarcasm|no_class|\n",
            "+-----+---------------+-------------------+--------------------+-------+------+----+--------+-----+------+----+-------+-------------+---------------+--------+\n",
            "|    2|              0|0.03333333333333333|0.001111111111111...|      0|   1.0| 0.0|     0.0|  0.0|   0.0| 0.0|    0.0|          0.0|            0.0|     0.0|\n",
            "|    2|              1|                0.0|0.001111111111111...|     30|   0.0| 0.0|     0.0|  0.0|   0.0| 0.0|    0.0|          0.0|            0.0|     0.0|\n",
            "|    2|              2|                0.0|5.555555555555556E-4|     60|   0.0| 0.0|     0.0|  0.0|   0.0| 0.0|    0.0|          0.0|            0.0|     0.0|\n",
            "|    2|              3|                0.0|3.703703703703703...|     90|   0.0| 0.0|     0.0|  0.0|   0.0| 0.0|    0.0|          0.0|            0.0|     0.0|\n",
            "|    2|              4|                0.0|2.777777777777778E-4|    120|   0.0| 0.0|     0.0|  0.0|   0.0| 0.0|    0.0|          0.0|            0.0|     0.0|\n",
            "+-----+---------------+-------------------+--------------------+-------+------+----+--------+-----+------+----+-------+-------------+---------------+--------+\n",
            "only showing top 5 rows\n",
            "\n"
          ]
        }
      ]
    },
    {
      "cell_type": "code",
      "source": [
        "# Group by 'user1' and aggregate the columns\n",
        "grouped_spending_df = spending_behavior.groupBy('user1').agg(\n",
        "    sum('frequency').alias('cumm_frequency'),\n",
        "    avg('recency').alias('average_recency'),\n",
        "    sum('people').alias('total_people'),\n",
        "    sum('food').alias('total_food'),\n",
        "    sum('activity').alias('total_activity'),\n",
        "    sum('event').alias('total_event'),\n",
        "    sum('travel').alias('total_travel'),\n",
        "    sum('cash').alias('total_cash'),\n",
        "    sum('utility').alias('total_utility'),\n",
        "    sum('trasportation').alias('total_transportation'),\n",
        "    sum('illegal_sarcasm').alias('total_illegal_sarcasm'),\n",
        "    sum('no_class').alias('total_no_class')\n",
        ")\n",
        "\n",
        "# Show the resulting DataFrame\n",
        "grouped_spending_df.show()"
      ],
      "metadata": {
        "colab": {
          "base_uri": "https://localhost:8080/"
        },
        "id": "WKuLBcVZEBJk",
        "outputId": "6bf3a0ce-0190-4172-f097-bcf37e15c759"
      },
      "execution_count": null,
      "outputs": [
        {
          "output_type": "stream",
          "name": "stdout",
          "text": [
            "+-----+-------------------+------------------+------------+----------+--------------+-----------+------------+----------+-------------+--------------------+---------------------+--------------+\n",
            "|user1|     cumm_frequency|   average_recency|total_people|total_food|total_activity|total_event|total_travel|total_cash|total_utility|total_transportation|total_illegal_sarcasm|total_no_class|\n",
            "+-----+-------------------+------------------+------------+----------+--------------+-----------+------------+----------+-------------+--------------------+---------------------+--------------+\n",
            "| 2866|0.03333333333333333|             180.0|         0.0|       0.0|           1.0|        0.0|         0.0|       0.0|          0.0|                 0.0|                  0.0|           0.0|\n",
            "|28170|0.03333333333333333|             180.0|         0.0|       0.0|           0.0|        0.0|         0.0|       0.0|          0.0|                 0.0|                  0.0|           1.0|\n",
            "|28759|                0.1| 68.23076923076923|         0.0|       1.0|           0.0|        0.0|         0.0|       0.0|          1.0|                 1.0|                  0.0|           0.0|\n",
            "|33602|0.06666666666666667| 154.3846153846154|         1.0|       1.0|           0.0|        0.0|         0.0|       0.0|          0.0|                 0.0|                  0.0|           0.0|\n",
            "|36525|0.03333333333333333|             180.0|         0.0|       1.0|           0.0|        0.0|         0.0|       0.0|          0.0|                 0.0|                  0.0|           0.0|\n",
            "|47283|0.06666666666666667|129.23076923076923|         0.0|       0.0|           2.0|        0.0|         0.0|       0.0|          0.0|                 0.0|                  0.0|           0.0|\n",
            "|51415|0.13333333333333333| 84.84615384615384|         1.0|       1.0|           1.0|        0.0|         0.0|       0.0|          1.0|                 0.0|                  0.0|           0.0|\n",
            "|53963|0.03333333333333333|             180.0|         0.0|       0.0|           0.0|        0.0|         0.0|       0.0|          0.0|                 0.0|                  0.0|           1.0|\n",
            "|63087|0.06666666666666667|116.07692307692308|         1.0|       0.0|           0.0|        0.0|         0.0|       0.0|          0.0|                 0.0|                  0.0|           1.0|\n",
            "|64423|0.03333333333333333|             180.0|         0.0|       0.0|           0.0|        0.0|         0.0|       0.0|          0.0|                 0.0|                  0.0|           1.0|\n",
            "|65408|0.03333333333333333|             180.0|         0.0|       1.0|           0.0|        0.0|         0.0|       0.0|          0.0|                 0.0|                  0.0|           0.0|\n",
            "|67492|0.26666666666666666|              39.0|         2.0|       1.5|           1.5|        0.0|         0.0|       0.0|          0.0|                 0.0|                  0.0|           1.0|\n",
            "|67861|0.03333333333333333|             180.0|         0.0|       1.0|           0.0|        0.0|         0.0|       0.0|          0.0|                 0.0|                  0.0|           0.0|\n",
            "|68202|0.03333333333333333|             180.0|         0.0|       0.0|           1.0|        0.0|         0.0|       0.0|          0.0|                 0.0|                  0.0|           0.0|\n",
            "|71995|0.03333333333333333|             180.0|         0.0|       1.0|           0.0|        0.0|         0.0|       0.0|          0.0|                 0.0|                  0.0|           0.0|\n",
            "|72758|0.03333333333333333|             180.0|         0.0|       1.0|           0.0|        0.0|         0.0|       0.0|          0.0|                 0.0|                  0.0|           0.0|\n",
            "|74775|0.06666666666666667|153.76923076923077|         1.0|       0.0|           0.0|        0.0|         0.0|       0.0|          0.0|                 0.0|                  0.0|           1.0|\n",
            "|87616|                0.1| 79.07692307692308|         1.0|       1.0|           0.0|        0.0|         0.0|       0.0|          0.0|                 0.0|                  0.0|           1.0|\n",
            "|91785|0.03333333333333333|             180.0|         0.0|       0.0|           0.0|        0.0|         0.0|       0.0|          0.0|                 0.0|                  0.0|           1.0|\n",
            "|94851|0.03333333333333333|             180.0|         0.0|       0.0|           1.0|        0.0|         0.0|       0.0|          0.0|                 0.0|                  0.0|           0.0|\n",
            "+-----+-------------------+------------------+------------+----------+--------------+-----------+------------+----------+-------------+--------------------+---------------------+--------------+\n",
            "only showing top 20 rows\n",
            "\n"
          ]
        }
      ]
    },
    {
      "cell_type": "code",
      "source": [
        "# Specify the output file path\n",
        "output_path = \"/content/drive/MyDrive/BigData_HW4/grouped_spending_df.parquet\"\n",
        "\n",
        "# Write the DataFrame to Parquet\n",
        "grouped_spending_df.write.parquet(output_path,mode='overwrite')"
      ],
      "metadata": {
        "id": "zlS5JUH3E9va"
      },
      "execution_count": null,
      "outputs": []
    },
    {
      "cell_type": "markdown",
      "source": [
        "---"
      ],
      "metadata": {
        "id": "JpdDiNz7F3tY"
      }
    },
    {
      "cell_type": "code",
      "source": [
        "# Rename the column 'user' to 'user1'\n",
        "grouped_social_df = grouped_social_df.withColumnRenamed('user', 'user1')\n",
        "\n",
        "# Show the resulting DataFrame\n",
        "grouped_social_df.show()"
      ],
      "metadata": {
        "colab": {
          "base_uri": "https://localhost:8080/"
        },
        "id": "V3WR2218GbD9",
        "outputId": "a6e62cc5-1d8f-4c26-dbd9-d4f6a40c8e71"
      },
      "execution_count": null,
      "outputs": [
        {
          "output_type": "stream",
          "name": "stdout",
          "text": [
            "+-----+-------------------+---------------------------+--------------------------+\n",
            "|user1|total_count_friends|total_friends_friends_count|avg_clustering_coefficient|\n",
            "+-----+-------------------+---------------------------+--------------------------+\n",
            "| 2866|                  1|                          0|                       0.0|\n",
            "| 4935|                  1|                          0|                       0.0|\n",
            "|20735|                  1|                          0|                       0.0|\n",
            "|28170|                  1|                          1|                       0.0|\n",
            "|28759|                  3|                          1|                       0.0|\n",
            "|33602|                  2|                          0|                       0.0|\n",
            "|36525|                  1|                          0|                       0.0|\n",
            "|47283|                  3|                          1|                       0.0|\n",
            "|51415|                  4|                          0|                       0.0|\n",
            "|53963|                  1|                          0|                       0.0|\n",
            "|63087|                  2|                          1|                       0.0|\n",
            "|64423|                  1|                          0|                       0.0|\n",
            "|65220|                  1|                          0|                       0.0|\n",
            "|65408|                  1|                          1|                       0.0|\n",
            "|67492|                  6|                          2|                       0.0|\n",
            "|67861|                  1|                          0|                       0.0|\n",
            "|68202|                  1|                          0|                       0.0|\n",
            "|71995|                  1|                          0|                       0.0|\n",
            "|72758|                  1|                          0|                       0.0|\n",
            "|74775|                  2|                          0|                       0.0|\n",
            "+-----+-------------------+---------------------------+--------------------------+\n",
            "only showing top 20 rows\n",
            "\n"
          ]
        }
      ]
    },
    {
      "cell_type": "code",
      "source": [
        "# Perform an inner join on 'user1' column\n",
        "social_trxn = grouped_social_df.join(grouped_spending_df, on='user1', how='inner')\n",
        "\n",
        "# Show the resulting joined DataFrame\n",
        "social_trxn.show()"
      ],
      "metadata": {
        "colab": {
          "base_uri": "https://localhost:8080/"
        },
        "id": "RdkEb9aFGitU",
        "outputId": "c523a425-ba91-42f1-ae50-23799660d016"
      },
      "execution_count": null,
      "outputs": [
        {
          "output_type": "stream",
          "name": "stdout",
          "text": [
            "+-----+-------------------+---------------------------+--------------------------+-------------------+------------------+------------+----------+--------------+-----------+------------+----------+-------------+--------------------+---------------------+--------------+\n",
            "|user1|total_count_friends|total_friends_friends_count|avg_clustering_coefficient|     cumm_frequency|   average_recency|total_people|total_food|total_activity|total_event|total_travel|total_cash|total_utility|total_transportation|total_illegal_sarcasm|total_no_class|\n",
            "+-----+-------------------+---------------------------+--------------------------+-------------------+------------------+------------+----------+--------------+-----------+------------+----------+-------------+--------------------+---------------------+--------------+\n",
            "| 2866|                  1|                          0|                       0.0|0.03333333333333333|             180.0|         0.0|       0.0|           1.0|        0.0|         0.0|       0.0|          0.0|                 0.0|                  0.0|           0.0|\n",
            "|28170|                  1|                          1|                       0.0|0.03333333333333333|             180.0|         0.0|       0.0|           0.0|        0.0|         0.0|       0.0|          0.0|                 0.0|                  0.0|           1.0|\n",
            "|28759|                  3|                          1|                       0.0|                0.1| 68.23076923076923|         0.0|       1.0|           0.0|        0.0|         0.0|       0.0|          1.0|                 1.0|                  0.0|           0.0|\n",
            "|33602|                  2|                          0|                       0.0|0.06666666666666667| 154.3846153846154|         1.0|       1.0|           0.0|        0.0|         0.0|       0.0|          0.0|                 0.0|                  0.0|           0.0|\n",
            "|36525|                  1|                          0|                       0.0|0.03333333333333333|             180.0|         0.0|       1.0|           0.0|        0.0|         0.0|       0.0|          0.0|                 0.0|                  0.0|           0.0|\n",
            "|47283|                  3|                          1|                       0.0|0.06666666666666667|129.23076923076923|         0.0|       0.0|           2.0|        0.0|         0.0|       0.0|          0.0|                 0.0|                  0.0|           0.0|\n",
            "|51415|                  4|                          0|                       0.0|0.13333333333333333| 84.84615384615384|         1.0|       1.0|           1.0|        0.0|         0.0|       0.0|          1.0|                 0.0|                  0.0|           0.0|\n",
            "|53963|                  1|                          0|                       0.0|0.03333333333333333|             180.0|         0.0|       0.0|           0.0|        0.0|         0.0|       0.0|          0.0|                 0.0|                  0.0|           1.0|\n",
            "|63087|                  2|                          1|                       0.0|0.06666666666666667|116.07692307692308|         1.0|       0.0|           0.0|        0.0|         0.0|       0.0|          0.0|                 0.0|                  0.0|           1.0|\n",
            "|64423|                  1|                          0|                       0.0|0.03333333333333333|             180.0|         0.0|       0.0|           0.0|        0.0|         0.0|       0.0|          0.0|                 0.0|                  0.0|           1.0|\n",
            "|65408|                  1|                          1|                       0.0|0.03333333333333333|             180.0|         0.0|       1.0|           0.0|        0.0|         0.0|       0.0|          0.0|                 0.0|                  0.0|           0.0|\n",
            "|67492|                  6|                          2|                       0.0|0.26666666666666666|              39.0|         2.0|       1.5|           1.5|        0.0|         0.0|       0.0|          0.0|                 0.0|                  0.0|           1.0|\n",
            "|67861|                  1|                          0|                       0.0|0.03333333333333333|             180.0|         0.0|       1.0|           0.0|        0.0|         0.0|       0.0|          0.0|                 0.0|                  0.0|           0.0|\n",
            "|68202|                  1|                          0|                       0.0|0.03333333333333333|             180.0|         0.0|       0.0|           1.0|        0.0|         0.0|       0.0|          0.0|                 0.0|                  0.0|           0.0|\n",
            "|71995|                  1|                          0|                       0.0|0.03333333333333333|             180.0|         0.0|       1.0|           0.0|        0.0|         0.0|       0.0|          0.0|                 0.0|                  0.0|           0.0|\n",
            "|72758|                  1|                          0|                       0.0|0.03333333333333333|             180.0|         0.0|       1.0|           0.0|        0.0|         0.0|       0.0|          0.0|                 0.0|                  0.0|           0.0|\n",
            "|74775|                  2|                          0|                       0.0|0.06666666666666667|153.76923076923077|         1.0|       0.0|           0.0|        0.0|         0.0|       0.0|          0.0|                 0.0|                  0.0|           1.0|\n",
            "|87616|                  3|                          0|                       0.0|                0.1| 79.07692307692308|         1.0|       1.0|           0.0|        0.0|         0.0|       0.0|          0.0|                 0.0|                  0.0|           1.0|\n",
            "|91785|                  1|                          0|                       0.0|0.03333333333333333|             180.0|         0.0|       0.0|           0.0|        0.0|         0.0|       0.0|          0.0|                 0.0|                  0.0|           1.0|\n",
            "|94851|                  1|                          0|                       0.0|0.03333333333333333|             180.0|         0.0|       0.0|           1.0|        0.0|         0.0|       0.0|          0.0|                 0.0|                  0.0|           0.0|\n",
            "+-----+-------------------+---------------------------+--------------------------+-------------------+------------------+------------+----------+--------------+-----------+------------+----------+-------------+--------------------+---------------------+--------------+\n",
            "only showing top 20 rows\n",
            "\n"
          ]
        }
      ]
    },
    {
      "cell_type": "code",
      "source": [
        "# Specify the output file path\n",
        "output_path = \"/content/drive/MyDrive/BigData_HW4/joined_df.parquet\"\n",
        "\n",
        "# Write the DataFrame to Parquet\n",
        "social_trxn.write.parquet(output_path,mode='overwrite')"
      ],
      "metadata": {
        "id": "MAQmMvMeHFb7"
      },
      "execution_count": null,
      "outputs": []
    },
    {
      "cell_type": "markdown",
      "source": [
        "---"
      ],
      "metadata": {
        "id": "Wsm6o9S8cwAN"
      }
    },
    {
      "cell_type": "code",
      "source": [
        "spending_venmo = spark.read.parquet(\"/content/drive/MyDrive/BigData_HW4/spending_behavior_with_y.parquet\")"
      ],
      "metadata": {
        "id": "NI0ZTtoZHJk6"
      },
      "execution_count": null,
      "outputs": []
    },
    {
      "cell_type": "code",
      "source": [
        "spending_venmo.createOrReplaceTempView(\"spending_venmo\")\n",
        "\n",
        "spending_venmo.show(2)"
      ],
      "metadata": {
        "colab": {
          "base_uri": "https://localhost:8080/"
        },
        "id": "7FDKlrqgc6EW",
        "outputId": "241e96e9-b9b2-40cb-b7dc-4bfc2f077765"
      },
      "execution_count": null,
      "outputs": [
        {
          "output_type": "stream",
          "name": "stdout",
          "text": [
            "+-----+---------------+-------------------+--------------------+-------+------+----+--------+-----+------+----+-------+-------------+---------------+--------+---+\n",
            "|user1|lifetime_marker|          frequency|       cum_frequency|recency|people|food|activity|event|travel|cash|utility|trasportation|illegal_sarcasm|no_class|  y|\n",
            "+-----+---------------+-------------------+--------------------+-------+------+----+--------+-----+------+----+-------+-------------+---------------+--------+---+\n",
            "|    2|              0|0.03333333333333333|0.001111111111111...|      0|   1.0| 0.0|     0.0|  0.0|   0.0| 0.0|    0.0|          0.0|            0.0|     0.0|  1|\n",
            "|    2|              1|                0.0|0.001111111111111...|     30|   0.0| 0.0|     0.0|  0.0|   0.0| 0.0|    0.0|          0.0|            0.0|     0.0|  1|\n",
            "+-----+---------------+-------------------+--------------------+-------+------+----+--------+-----+------+----+-------+-------------+---------------+--------+---+\n",
            "only showing top 2 rows\n",
            "\n"
          ]
        }
      ]
    },
    {
      "cell_type": "code",
      "source": [
        "target_variable = spark.sql(\"\"\"\n",
        "    SELECT user1, y\n",
        "    FROM spending_venmo\n",
        "\"\"\")\n",
        "\n",
        "target_variable.show()"
      ],
      "metadata": {
        "colab": {
          "base_uri": "https://localhost:8080/"
        },
        "id": "oz94DzdWc0So",
        "outputId": "bb0ac292-9318-4015-adf2-c8741c2bbf60"
      },
      "execution_count": null,
      "outputs": [
        {
          "output_type": "stream",
          "name": "stdout",
          "text": [
            "+-----+---+\n",
            "|user1|  y|\n",
            "+-----+---+\n",
            "|    2|  1|\n",
            "|    2|  1|\n",
            "|    2|  1|\n",
            "|    2|  1|\n",
            "|    2|  1|\n",
            "|    2|  1|\n",
            "|    2|  1|\n",
            "|    2|  1|\n",
            "|    2|  1|\n",
            "|    2|  1|\n",
            "|    2|  1|\n",
            "|    2|  1|\n",
            "|    2|  1|\n",
            "|    3|  6|\n",
            "|    3|  6|\n",
            "|    3|  6|\n",
            "|    3|  6|\n",
            "|    3|  6|\n",
            "|    3|  6|\n",
            "|    3|  6|\n",
            "+-----+---+\n",
            "only showing top 20 rows\n",
            "\n"
          ]
        }
      ]
    },
    {
      "cell_type": "code",
      "source": [
        "target_variable = target_variable.dropDuplicates()"
      ],
      "metadata": {
        "id": "XVn7krYEomQK"
      },
      "execution_count": null,
      "outputs": []
    },
    {
      "cell_type": "code",
      "source": [
        "# Count the number of rows\n",
        "row_count = target_variable.count()\n",
        "\n",
        "# Print the result\n",
        "print(\"Total number of rows:\", row_count)"
      ],
      "metadata": {
        "colab": {
          "base_uri": "https://localhost:8080/"
        },
        "id": "cWmZGk9fggC-",
        "outputId": "6d181a52-919b-4f12-b61f-2407a3e40642"
      },
      "execution_count": null,
      "outputs": [
        {
          "output_type": "stream",
          "name": "stdout",
          "text": [
            "Total number of rows: 6152\n"
          ]
        }
      ]
    },
    {
      "cell_type": "code",
      "source": [
        "# Count the number of rows\n",
        "row_count = social_trxn.count()\n",
        "\n",
        "# Print the result\n",
        "print(\"Total number of rows:\", row_count)\n"
      ],
      "metadata": {
        "colab": {
          "base_uri": "https://localhost:8080/"
        },
        "id": "dpQdKAmwgoAs",
        "outputId": "2933fa49-ce87-490e-b32d-516ab20c1438"
      },
      "execution_count": null,
      "outputs": [
        {
          "output_type": "stream",
          "name": "stdout",
          "text": [
            "Total number of rows: 6152\n"
          ]
        }
      ]
    },
    {
      "cell_type": "code",
      "source": [
        "social_trxn.show(2)"
      ],
      "metadata": {
        "colab": {
          "base_uri": "https://localhost:8080/"
        },
        "id": "XurIR-ProG8M",
        "outputId": "9d542399-5947-49cf-a731-7440ebf428f0"
      },
      "execution_count": null,
      "outputs": [
        {
          "output_type": "stream",
          "name": "stdout",
          "text": [
            "+-----+-------------------+---------------------------+--------------------------+-------------------+---------------+------------+----------+--------------+-----------+------------+----------+-------------+--------------------+---------------------+--------------+\n",
            "|user1|total_count_friends|total_friends_friends_count|avg_clustering_coefficient|     cumm_frequency|average_recency|total_people|total_food|total_activity|total_event|total_travel|total_cash|total_utility|total_transportation|total_illegal_sarcasm|total_no_class|\n",
            "+-----+-------------------+---------------------------+--------------------------+-------------------+---------------+------------+----------+--------------+-----------+------------+----------+-------------+--------------------+---------------------+--------------+\n",
            "| 2866|                  1|                          0|                       0.0|0.03333333333333333|          180.0|         0.0|       0.0|           1.0|        0.0|         0.0|       0.0|          0.0|                 0.0|                  0.0|           0.0|\n",
            "|28170|                  1|                          1|                       0.0|0.03333333333333333|          180.0|         0.0|       0.0|           0.0|        0.0|         0.0|       0.0|          0.0|                 0.0|                  0.0|           1.0|\n",
            "+-----+-------------------+---------------------------+--------------------------+-------------------+---------------+------------+----------+--------------+-----------+------------+----------+-------------+--------------------+---------------------+--------------+\n",
            "only showing top 2 rows\n",
            "\n"
          ]
        }
      ]
    },
    {
      "cell_type": "code",
      "source": [],
      "metadata": {
        "id": "bCifOOXj5gat"
      },
      "execution_count": null,
      "outputs": []
    },
    {
      "cell_type": "code",
      "source": [
        "# Perform an inner join on 'user1' column\n",
        "social_trxn_y = social_trxn.join(target_variable, on='user1', how='inner')\n",
        "\n",
        "# Show the resulting joined DataFrame\n",
        "social_trxn_y.show()"
      ],
      "metadata": {
        "colab": {
          "base_uri": "https://localhost:8080/"
        },
        "id": "6NH1XAmNoJ27",
        "outputId": "821349b8-f9eb-404a-8310-b15ffca73ec0"
      },
      "execution_count": null,
      "outputs": [
        {
          "output_type": "stream",
          "name": "stdout",
          "text": [
            "+-----+-------------------+---------------------------+--------------------------+-------------------+------------------+------------+----------+--------------+-----------+------------+----------+-------------+--------------------+---------------------+--------------+---+\n",
            "|user1|total_count_friends|total_friends_friends_count|avg_clustering_coefficient|     cumm_frequency|   average_recency|total_people|total_food|total_activity|total_event|total_travel|total_cash|total_utility|total_transportation|total_illegal_sarcasm|total_no_class|  y|\n",
            "+-----+-------------------+---------------------------+--------------------------+-------------------+------------------+------------+----------+--------------+-----------+------------+----------+-------------+--------------------+---------------------+--------------+---+\n",
            "| 2866|                  1|                          0|                       0.0|0.03333333333333333|             180.0|         0.0|       0.0|           1.0|        0.0|         0.0|       0.0|          0.0|                 0.0|                  0.0|           0.0|  1|\n",
            "|28170|                  1|                          1|                       0.0|0.03333333333333333|             180.0|         0.0|       0.0|           0.0|        0.0|         0.0|       0.0|          0.0|                 0.0|                  0.0|           1.0|  1|\n",
            "|28759|                  3|                          1|                       0.0|                0.1| 68.23076923076923|         0.0|       1.0|           0.0|        0.0|         0.0|       0.0|          1.0|                 1.0|                  0.0|           0.0|  3|\n",
            "|33602|                  2|                          0|                       0.0|0.06666666666666667| 154.3846153846154|         1.0|       1.0|           0.0|        0.0|         0.0|       0.0|          0.0|                 0.0|                  0.0|           0.0|  2|\n",
            "|36525|                  1|                          0|                       0.0|0.03333333333333333|             180.0|         0.0|       1.0|           0.0|        0.0|         0.0|       0.0|          0.0|                 0.0|                  0.0|           0.0|  1|\n",
            "|47283|                  3|                          1|                       0.0|0.06666666666666667|129.23076923076923|         0.0|       0.0|           2.0|        0.0|         0.0|       0.0|          0.0|                 0.0|                  0.0|           0.0|  2|\n",
            "|51415|                  4|                          0|                       0.0|0.13333333333333333| 84.84615384615384|         1.0|       1.0|           1.0|        0.0|         0.0|       0.0|          1.0|                 0.0|                  0.0|           0.0|  4|\n",
            "|53963|                  1|                          0|                       0.0|0.03333333333333333|             180.0|         0.0|       0.0|           0.0|        0.0|         0.0|       0.0|          0.0|                 0.0|                  0.0|           1.0|  1|\n",
            "|63087|                  2|                          1|                       0.0|0.06666666666666667|116.07692307692308|         1.0|       0.0|           0.0|        0.0|         0.0|       0.0|          0.0|                 0.0|                  0.0|           1.0|  2|\n",
            "|64423|                  1|                          0|                       0.0|0.03333333333333333|             180.0|         0.0|       0.0|           0.0|        0.0|         0.0|       0.0|          0.0|                 0.0|                  0.0|           1.0|  1|\n",
            "|65408|                  1|                          1|                       0.0|0.03333333333333333|             180.0|         0.0|       1.0|           0.0|        0.0|         0.0|       0.0|          0.0|                 0.0|                  0.0|           0.0|  1|\n",
            "|67492|                  6|                          2|                       0.0|0.26666666666666666|              39.0|         2.0|       1.5|           1.5|        0.0|         0.0|       0.0|          0.0|                 0.0|                  0.0|           1.0|  8|\n",
            "|67861|                  1|                          0|                       0.0|0.03333333333333333|             180.0|         0.0|       1.0|           0.0|        0.0|         0.0|       0.0|          0.0|                 0.0|                  0.0|           0.0|  1|\n",
            "|68202|                  1|                          0|                       0.0|0.03333333333333333|             180.0|         0.0|       0.0|           1.0|        0.0|         0.0|       0.0|          0.0|                 0.0|                  0.0|           0.0|  1|\n",
            "|71995|                  1|                          0|                       0.0|0.03333333333333333|             180.0|         0.0|       1.0|           0.0|        0.0|         0.0|       0.0|          0.0|                 0.0|                  0.0|           0.0|  1|\n",
            "|72758|                  1|                          0|                       0.0|0.03333333333333333|             180.0|         0.0|       1.0|           0.0|        0.0|         0.0|       0.0|          0.0|                 0.0|                  0.0|           0.0|  1|\n",
            "|74775|                  2|                          0|                       0.0|0.06666666666666667|153.76923076923077|         1.0|       0.0|           0.0|        0.0|         0.0|       0.0|          0.0|                 0.0|                  0.0|           1.0|  2|\n",
            "|87616|                  3|                          0|                       0.0|                0.1| 79.07692307692308|         1.0|       1.0|           0.0|        0.0|         0.0|       0.0|          0.0|                 0.0|                  0.0|           1.0|  3|\n",
            "|91785|                  1|                          0|                       0.0|0.03333333333333333|             180.0|         0.0|       0.0|           0.0|        0.0|         0.0|       0.0|          0.0|                 0.0|                  0.0|           1.0|  1|\n",
            "|94851|                  1|                          0|                       0.0|0.03333333333333333|             180.0|         0.0|       0.0|           1.0|        0.0|         0.0|       0.0|          0.0|                 0.0|                  0.0|           0.0|  1|\n",
            "+-----+-------------------+---------------------------+--------------------------+-------------------+------------------+------------+----------+--------------+-----------+------------+----------+-------------+--------------------+---------------------+--------------+---+\n",
            "only showing top 20 rows\n",
            "\n"
          ]
        }
      ]
    },
    {
      "cell_type": "code",
      "source": [
        "social_trxn_y.columns"
      ],
      "metadata": {
        "colab": {
          "base_uri": "https://localhost:8080/"
        },
        "id": "M-r86o3vot7j",
        "outputId": "2215d69e-3f93-4cea-9df6-bf2a563ba57d"
      },
      "execution_count": null,
      "outputs": [
        {
          "output_type": "execute_result",
          "data": {
            "text/plain": [
              "['user1',\n",
              " 'total_count_friends',\n",
              " 'total_friends_friends_count',\n",
              " 'avg_clustering_coefficient',\n",
              " 'cumm_frequency',\n",
              " 'average_recency',\n",
              " 'total_people',\n",
              " 'total_food',\n",
              " 'total_activity',\n",
              " 'total_event',\n",
              " 'total_travel',\n",
              " 'total_cash',\n",
              " 'total_utility',\n",
              " 'total_transportation',\n",
              " 'total_illegal_sarcasm',\n",
              " 'total_no_class',\n",
              " 'y']"
            ]
          },
          "metadata": {},
          "execution_count": 33
        }
      ]
    },
    {
      "cell_type": "code",
      "source": [
        "from pyspark.ml.feature import VectorAssembler\n",
        "from pyspark.ml.regression import LinearRegression\n",
        "from pyspark.ml.evaluation import RegressionEvaluator\n",
        "\n",
        "# Assuming you have the transformed DataFrame named 'transformed_data'\n",
        "\n",
        "# Select the relevant columns as features and target variable\n",
        "feature_columns = ['total_count_friends',\n",
        " 'total_friends_friends_count',\n",
        " 'avg_clustering_coefficient',\n",
        " 'total_people',\n",
        " 'total_food',\n",
        " 'total_activity',\n",
        " 'total_event',\n",
        " 'total_travel',\n",
        " 'total_cash',\n",
        " 'total_utility',\n",
        " 'total_transportation',\n",
        " 'total_illegal_sarcasm',\n",
        " 'total_no_class']\n",
        "target_column = \"y\"\n",
        "\n",
        "# Create a VectorAssembler to combine the feature columns into a single \"features\" column\n",
        "assembler = VectorAssembler(inputCols=feature_columns, outputCol=\"features\")"
      ],
      "metadata": {
        "id": "ysk2XBW8oyEY"
      },
      "execution_count": null,
      "outputs": []
    },
    {
      "cell_type": "code",
      "source": [
        "# Transform the data using the VectorAssembler\n",
        "assembled_data = assembler.transform(social_trxn_y)"
      ],
      "metadata": {
        "id": "LaTgHKsspZPl"
      },
      "execution_count": null,
      "outputs": []
    },
    {
      "cell_type": "code",
      "source": [
        "# Split the data into train and test sets\n",
        "train_data, test_data = assembled_data.randomSplit([0.7, 0.3], seed=123)\n",
        "\n",
        "# Create a LinearRegression model\n",
        "lr = LinearRegression(featuresCol=\"features\", labelCol=target_column)\n",
        "\n",
        "# Fit the model to the training data\n",
        "lr_model = lr.fit(train_data)\n",
        "\n",
        "# Make predictions on the test data\n",
        "predictions = lr_model.transform(test_data)\n",
        "\n",
        "# Evaluate the model's performance using a RegressionEvaluator\n",
        "evaluator = RegressionEvaluator(labelCol=target_column, predictionCol=\"prediction\", metricName=\"rmse\")\n",
        "rmse_all = evaluator.evaluate(predictions)\n",
        "\n",
        "# Print the root mean squared error (RMSE)\n",
        "print(\"(RMSE) for all data except.demo:\", rmse_all)"
      ],
      "metadata": {
        "colab": {
          "base_uri": "https://localhost:8080/"
        },
        "id": "A7y3VhpTpbY9",
        "outputId": "1c07525f-a556-4d71-caf7-7c32a5ba0ffd"
      },
      "execution_count": null,
      "outputs": [
        {
          "output_type": "stream",
          "name": "stdout",
          "text": [
            "(RMSE) for all data except.demo: 0.3864312907345662\n"
          ]
        }
      ]
    },
    {
      "cell_type": "code",
      "source": [
        "from pyspark.ml.evaluation import RegressionEvaluator\n",
        "\n",
        "\n",
        "# Evaluate the model's performance using a RegressionEvaluator\n",
        "evaluator = RegressionEvaluator(labelCol=target_column, predictionCol=\"prediction\", metricName=\"r2\")\n",
        "r2 = evaluator.evaluate(predictions)\n",
        "\n",
        "# Print the R-squared value\n",
        "print(\"R-squared:\", r2)"
      ],
      "metadata": {
        "id": "syw-8bMNqC1a",
        "colab": {
          "base_uri": "https://localhost:8080/"
        },
        "outputId": "c6956e2e-69e1-4aff-98e9-5f34ce79437c"
      },
      "execution_count": null,
      "outputs": [
        {
          "output_type": "stream",
          "name": "stdout",
          "text": [
            "R-squared: 0.9456271859321465\n"
          ]
        }
      ]
    },
    {
      "cell_type": "markdown",
      "source": [
        "-----"
      ],
      "metadata": {
        "id": "3DknYsP7yJza"
      }
    },
    {
      "cell_type": "code",
      "source": [
        "df = spark.read.csv('/content/drive/MyDrive/BigData_HW4/combined_df.csv', header=True, inferSchema=True)"
      ],
      "metadata": {
        "id": "19rWGTxYyKZf"
      },
      "execution_count": null,
      "outputs": []
    },
    {
      "cell_type": "code",
      "source": [
        "df.show(2)"
      ],
      "metadata": {
        "colab": {
          "base_uri": "https://localhost:8080/"
        },
        "id": "8WhLJJ1iyRic",
        "outputId": "7b4463ab-df4f-483b-eeb3-dd1ce3561597"
      },
      "execution_count": null,
      "outputs": [
        {
          "output_type": "stream",
          "name": "stdout",
          "text": [
            "+-----+------+----------------+-------------------+--------------------+-----------+--------------------+--------------------+----+---------------------------+----------------------+-------------------+-------------------+------------------------------+--------------------------------+-------------------------------+--------------------------+---------------------+-------------------------+--------------------+-----------------------+-------------------+-------------------+-----------------+-----------------+--------------+---------------------+---------------------+---------------+----------------------+----------------------+---------------+---------------+--------------------+--------------------+----+\n",
            "|user1| user2|transaction_type|           datetime|         description|is_business|            story_id|             face_id| tag|attribute.gender.confidence|attribute.gender.value|attribute.age.range|attribute.age.value|attribute.pose.yaw_angle.value|attribute.pose.pitch_angle.value|attribute.pose.roll_angle.value|attribute.glass.confidence|attribute.glass.value|attribute.race.confidence|attribute.race.value|attribute.smiling.value|position.eye_left.y|position.eye_left.x|position.center.y|position.center.x|position.width|position.mouth_left.y|position.mouth_left.x|position.height|position.mouth_right.y|position.mouth_right.x|position.nose.y|position.nose.x|position.eye_right.y|position.eye_right.x|  id|\n",
            "+-----+------+----------------+-------------------+--------------------+-----------+--------------------+--------------------+----+---------------------------+----------------------+-------------------+-------------------+------------------------------+--------------------------------+-------------------------------+--------------------------+---------------------+-------------------------+--------------------+-----------------------+-------------------+-------------------+-----------------+-----------------+--------------+---------------------+---------------------+---------------+----------------------+----------------------+---------------+---------------+--------------------+--------------------+----+\n",
            "|   34|   907|         payment|2016-02-01 03:20:59|              🐮🐷🦃|      false|56ae5e9bcd03c9af2...|aab0823088b9007a2...|null|                    99.9999|                Female|                  6|                 28|                    -13.082242|                         -5.0E-6|                       -5.30979|                   97.3584|                 None|       52.743300000000005|               Asian|                 48.874|            32.7592|            49.0927|             38.5|             57.5|          33.0|              47.7224|              51.0633|           33.0|               46.8155|               64.2695|        40.6925|        54.8488|             31.4063|             63.6495|34.0|\n",
            "|   34|934623|         payment|2014-09-15 08:00:57|2nd place (350 - ...|      false|54163a4a7d0b0354e...|aab0823088b9007a2...|null|                    99.9999|                Female|                  6|                 28|                    -13.082242|                         -5.0E-6|                       -5.30979|                   97.3584|                 None|       52.743300000000005|               Asian|                 48.874|            32.7592|            49.0927|             38.5|             57.5|          33.0|              47.7224|              51.0633|           33.0|               46.8155|               64.2695|        40.6925|        54.8488|             31.4063|             63.6495|34.0|\n",
            "+-----+------+----------------+-------------------+--------------------+-----------+--------------------+--------------------+----+---------------------------+----------------------+-------------------+-------------------+------------------------------+--------------------------------+-------------------------------+--------------------------+---------------------+-------------------------+--------------------+-----------------------+-------------------+-------------------+-----------------+-----------------+--------------+---------------------+---------------------+---------------+----------------------+----------------------+---------------+---------------+--------------------+--------------------+----+\n",
            "only showing top 2 rows\n",
            "\n"
          ]
        }
      ]
    },
    {
      "cell_type": "code",
      "source": [
        "from google.colab import drive\n",
        "drive.mount('/content/drive')"
      ],
      "metadata": {
        "colab": {
          "base_uri": "https://localhost:8080/"
        },
        "id": "ym0ftOk6yTKa",
        "outputId": "b38502d2-3ad7-4d52-f27e-09d838ba7a0a"
      },
      "execution_count": null,
      "outputs": [
        {
          "output_type": "stream",
          "name": "stdout",
          "text": [
            "Drive already mounted at /content/drive; to attempt to forcibly remount, call drive.mount(\"/content/drive\", force_remount=True).\n"
          ]
        }
      ]
    },
    {
      "cell_type": "code",
      "source": [
        "df.createOrReplaceTempView(\"df_temp\")\n",
        "demographic_venmo = spark.sql(\"\"\"\n",
        "    SELECT `attribute.gender.confidence`, `attribute.gender.value` AS gender,\n",
        "           `attribute.age.value` AS age,\n",
        "           `attribute.race.confidence`, `attribute.race.value` as race,\n",
        "           user1\n",
        "    FROM df_temp\n",
        "\"\"\")\n",
        "\n",
        "demographic_venmo.show()"
      ],
      "metadata": {
        "colab": {
          "base_uri": "https://localhost:8080/"
        },
        "id": "kmKINKUeyU-K",
        "outputId": "dee3ff81-b527-4ebd-d319-285da8b94f42"
      },
      "execution_count": null,
      "outputs": [
        {
          "output_type": "stream",
          "name": "stdout",
          "text": [
            "+---------------------------+------+---+-------------------------+-----+-----+\n",
            "|attribute.gender.confidence|gender|age|attribute.race.confidence| race|user1|\n",
            "+---------------------------+------+---+-------------------------+-----+-----+\n",
            "|                    99.9999|Female| 28|       52.743300000000005|Asian|   34|\n",
            "|                    99.9999|Female| 28|       52.743300000000005|Asian|   34|\n",
            "|                    99.9999|Female| 28|       52.743300000000005|Asian|   34|\n",
            "|                    99.9999|Female| 28|       52.743300000000005|Asian|   34|\n",
            "|                    99.9841|  Male| 17|                  78.8102|White|  159|\n",
            "|                    94.3785|  Male| 40|                  99.9204|White|  225|\n",
            "|                    99.5859|  Male| 36|                  42.2542|White|  275|\n",
            "|                    99.5859|  Male| 36|                  42.2542|White|  275|\n",
            "|                    99.5859|  Male| 36|                  42.2542|White|  275|\n",
            "|                     98.715|  Male| 38|        99.15129999999999|White|  312|\n",
            "|                    99.9999|  Male| 27|                  97.8748|White| 1255|\n",
            "|                    99.9999|  Male| 27|                  97.8748|White| 1255|\n",
            "|                    99.9999|  Male| 27|                  97.8748|White| 1255|\n",
            "|                    99.9048|  Male| 29|        97.66550000000001|White| 1508|\n",
            "|                    99.9987|  Male| 18|        98.87780000000001|White| 2033|\n",
            "|                    99.9987|  Male| 18|        98.87780000000001|White| 2033|\n",
            "|                    99.9858|Female| 11|                   99.275|Black| 2349|\n",
            "|                    99.9738|  Male| 24|                  96.0643|White| 2349|\n",
            "|                    99.9858|Female| 11|                   99.275|Black| 2349|\n",
            "|                    99.9738|  Male| 24|                  96.0643|White| 2349|\n",
            "+---------------------------+------+---+-------------------------+-----+-----+\n",
            "only showing top 20 rows\n",
            "\n"
          ]
        }
      ]
    },
    {
      "cell_type": "code",
      "source": [
        "demographic_venmo = demographic_venmo.dropDuplicates()"
      ],
      "metadata": {
        "id": "CC6qlZreyXA4"
      },
      "execution_count": null,
      "outputs": []
    },
    {
      "cell_type": "code",
      "source": [
        "spending_venmo = spark.read.parquet(\"/content/drive/MyDrive/BigData_HW4/spending_behavior_with_y.parquet\")"
      ],
      "metadata": {
        "id": "Wbj8FnhZyZQT"
      },
      "execution_count": null,
      "outputs": []
    },
    {
      "cell_type": "code",
      "source": [
        "spending_venmo.createOrReplaceTempView(\"spending_venmo\")\n",
        "\n",
        "spending_venmo.show(2)"
      ],
      "metadata": {
        "colab": {
          "base_uri": "https://localhost:8080/"
        },
        "id": "griQLfmbya_1",
        "outputId": "6a97705a-aa77-4627-8a05-9afca9114762"
      },
      "execution_count": null,
      "outputs": [
        {
          "output_type": "stream",
          "name": "stdout",
          "text": [
            "+-----+---------------+-------------------+--------------------+-------+------+----+--------+-----+------+----+-------+-------------+---------------+--------+---+\n",
            "|user1|lifetime_marker|          frequency|       cum_frequency|recency|people|food|activity|event|travel|cash|utility|trasportation|illegal_sarcasm|no_class|  y|\n",
            "+-----+---------------+-------------------+--------------------+-------+------+----+--------+-----+------+----+-------+-------------+---------------+--------+---+\n",
            "|    2|              0|0.03333333333333333|0.001111111111111...|      0|   1.0| 0.0|     0.0|  0.0|   0.0| 0.0|    0.0|          0.0|            0.0|     0.0|  1|\n",
            "|    2|              1|                0.0|0.001111111111111...|     30|   0.0| 0.0|     0.0|  0.0|   0.0| 0.0|    0.0|          0.0|            0.0|     0.0|  1|\n",
            "+-----+---------------+-------------------+--------------------+-------+------+----+--------+-----+------+----+-------+-------------+---------------+--------+---+\n",
            "only showing top 2 rows\n",
            "\n"
          ]
        }
      ]
    },
    {
      "cell_type": "code",
      "source": [
        "target_variable = spark.sql(\"\"\"\n",
        "    SELECT user1, y\n",
        "    FROM spending_venmo\n",
        "\"\"\")\n",
        "\n",
        "target_variable.show()"
      ],
      "metadata": {
        "colab": {
          "base_uri": "https://localhost:8080/"
        },
        "id": "lxEvdFriycss",
        "outputId": "83402cc8-a25f-47b5-9d01-7e6009a1012c"
      },
      "execution_count": null,
      "outputs": [
        {
          "output_type": "stream",
          "name": "stdout",
          "text": [
            "+-----+---+\n",
            "|user1|  y|\n",
            "+-----+---+\n",
            "|    2|  1|\n",
            "|    2|  1|\n",
            "|    2|  1|\n",
            "|    2|  1|\n",
            "|    2|  1|\n",
            "|    2|  1|\n",
            "|    2|  1|\n",
            "|    2|  1|\n",
            "|    2|  1|\n",
            "|    2|  1|\n",
            "|    2|  1|\n",
            "|    2|  1|\n",
            "|    2|  1|\n",
            "|    3|  6|\n",
            "|    3|  6|\n",
            "|    3|  6|\n",
            "|    3|  6|\n",
            "|    3|  6|\n",
            "|    3|  6|\n",
            "|    3|  6|\n",
            "+-----+---+\n",
            "only showing top 20 rows\n",
            "\n"
          ]
        }
      ]
    },
    {
      "cell_type": "code",
      "source": [
        "target_variable = target_variable.dropDuplicates()"
      ],
      "metadata": {
        "id": "Z5419QmFyeg9"
      },
      "execution_count": null,
      "outputs": []
    },
    {
      "cell_type": "code",
      "source": [
        "joined_2_df = demographic_venmo.join(target_variable, demographic_venmo.user1 == target_variable.user1, \"left\")"
      ],
      "metadata": {
        "id": "Kk-82jZByrJP"
      },
      "execution_count": null,
      "outputs": []
    },
    {
      "cell_type": "code",
      "source": [
        "joined_2_df.createOrReplaceTempView(\"behaviorial_with_y\")\n",
        "\n",
        "joined_2_df.show(2)"
      ],
      "metadata": {
        "colab": {
          "base_uri": "https://localhost:8080/"
        },
        "id": "DmrsbGKeysmd",
        "outputId": "acb9c70e-af1e-4d78-8f70-8a353dc7c472"
      },
      "execution_count": null,
      "outputs": [
        {
          "output_type": "stream",
          "name": "stdout",
          "text": [
            "+---------------------------+------+---+-------------------------+-----+-----+-----+---+\n",
            "|attribute.gender.confidence|gender|age|attribute.race.confidence| race|user1|user1|  y|\n",
            "+---------------------------+------+---+-------------------------+-----+-----+-----+---+\n",
            "|                    99.8796|  Male| 15|                  99.0758|White|41916|41916|  1|\n",
            "|                    99.9933|  Male| 35|                  99.9917|White|77331|77331|  1|\n",
            "+---------------------------+------+---+-------------------------+-----+-----+-----+---+\n",
            "only showing top 2 rows\n",
            "\n"
          ]
        }
      ]
    },
    {
      "cell_type": "code",
      "source": [
        "# Group by \"race\" column and count occurrences\n",
        "race_counts = joined_2_df.groupBy(\"race\").count()\n",
        "\n",
        "# Display the category counts\n",
        "race_counts.show()"
      ],
      "metadata": {
        "colab": {
          "base_uri": "https://localhost:8080/"
        },
        "id": "WvhsLS6Nyukf",
        "outputId": "bb3864d1-eb2b-4560-b6cd-30ff4138e184"
      },
      "execution_count": null,
      "outputs": [
        {
          "output_type": "stream",
          "name": "stdout",
          "text": [
            "+-----+-----+\n",
            "| race|count|\n",
            "+-----+-----+\n",
            "|White| 5773|\n",
            "|Black|  193|\n",
            "|Asian| 1194|\n",
            "+-----+-----+\n",
            "\n"
          ]
        }
      ]
    },
    {
      "cell_type": "code",
      "source": [
        "# Group by \"race\" column and count occurrences\n",
        "gender_counts = joined_2_df.groupBy(\"gender\").count()\n",
        "\n",
        "# Display the category counts\n",
        "gender_counts.show()"
      ],
      "metadata": {
        "colab": {
          "base_uri": "https://localhost:8080/"
        },
        "id": "rbzh2Lh3ywMB",
        "outputId": "32dd62af-614b-4b41-dc10-5c47fc86f575"
      },
      "execution_count": null,
      "outputs": [
        {
          "output_type": "stream",
          "name": "stdout",
          "text": [
            "+------+-----+\n",
            "|gender|count|\n",
            "+------+-----+\n",
            "|Female| 3410|\n",
            "|  Male| 3750|\n",
            "+------+-----+\n",
            "\n"
          ]
        }
      ]
    },
    {
      "cell_type": "code",
      "source": [
        "from pyspark.ml.feature import StringIndexer, OneHotEncoder\n",
        "from pyspark.ml import Pipeline\n",
        "\n",
        "# Assuming you have already loaded the data into a PySpark DataFrame named 'data'\n",
        "\n",
        "# Define the columns to be one-hot encoded\n",
        "categorical_columns = [\"race\", \"gender\"]\n",
        "\n",
        "# Create a list to store the stages of the pipeline\n",
        "stages = []\n",
        "\n",
        "# Iterate over the categorical columns and perform string indexing and one-hot encoding\n",
        "for column in categorical_columns:\n",
        "    # StringIndexer: Converts categorical values to numerical values\n",
        "    indexer = StringIndexer(inputCol=column, outputCol=column + \"_index\")\n",
        "    \n",
        "    # OneHotEncoder: Performs one-hot encoding on the indexed values\n",
        "    encoder = OneHotEncoder(inputCols=[indexer.getOutputCol()], outputCols=[column + \"_encoded\"])\n",
        "    \n",
        "    # Add the stages to the pipeline\n",
        "    stages += [indexer, encoder]\n",
        "\n",
        "# Create a pipeline with all the stages\n",
        "pipeline = Pipeline(stages=stages)\n",
        "\n",
        "# Fit the pipeline to the data\n",
        "pipeline_model = pipeline.fit(joined_2_df)\n",
        "\n",
        "# Transform the data using the pipeline\n",
        "transformed_data = pipeline_model.transform(joined_2_df)\n",
        "\n",
        "# Show the transformed data\n",
        "transformed_data.show()"
      ],
      "metadata": {
        "colab": {
          "base_uri": "https://localhost:8080/"
        },
        "id": "bdfQXC0HyywT",
        "outputId": "4a990a51-b581-4f96-ed08-8162df868b54"
      },
      "execution_count": null,
      "outputs": [
        {
          "output_type": "stream",
          "name": "stdout",
          "text": [
            "+---------------------------+------+---+-------------------------+-----+------+------+----+----------+-------------+------------+--------------+\n",
            "|attribute.gender.confidence|gender|age|attribute.race.confidence| race| user1| user1|   y|race_index| race_encoded|gender_index|gender_encoded|\n",
            "+---------------------------+------+---+-------------------------+-----+------+------+----+----------+-------------+------------+--------------+\n",
            "|                    99.8796|  Male| 15|                  99.0758|White| 41916| 41916|   1|       0.0|(2,[0],[1.0])|         0.0| (1,[0],[1.0])|\n",
            "|                    99.9933|  Male| 35|                  99.9917|White| 77331| 77331|   1|       0.0|(2,[0],[1.0])|         0.0| (1,[0],[1.0])|\n",
            "|                    99.9606|Female| 30|        98.40339999999999|White|103096|103096|   6|       0.0|(2,[0],[1.0])|         1.0|     (1,[],[])|\n",
            "|                    99.9941|  Male| 25|                  98.3757|Asian|112164|112164|   3|       1.0|(2,[1],[1.0])|         0.0| (1,[0],[1.0])|\n",
            "|                    99.9999|Female| 19|                  56.9226|White|114184|114184|   2|       0.0|(2,[0],[1.0])|         1.0|     (1,[],[])|\n",
            "|                    99.9767|Female| 10|                  99.9829|White|118071|  null|null|       0.0|(2,[0],[1.0])|         1.0|     (1,[],[])|\n",
            "|                    99.9976|Female| 25|                  84.3704|Asian|120472|120472|   2|       1.0|(2,[1],[1.0])|         1.0|     (1,[],[])|\n",
            "|                    99.1552|Female| 28|                  99.0188|White|  6340|  6340|   1|       0.0|(2,[0],[1.0])|         1.0|     (1,[],[])|\n",
            "|                    99.9999|Female| 18|                   99.846|Asian| 78390| 78390|   4|       1.0|(2,[1],[1.0])|         1.0|     (1,[],[])|\n",
            "|                    99.9753|  Male| 31|       48.574400000000004|White|116679|116679|   1|       0.0|(2,[0],[1.0])|         0.0| (1,[0],[1.0])|\n",
            "|                    99.9999|Female| 34|                  99.9626|White|118682|118682|   3|       0.0|(2,[0],[1.0])|         1.0|     (1,[],[])|\n",
            "|                    99.9923|Female| 28|                  99.0825|Asian| 52429| 52429|   1|       1.0|(2,[1],[1.0])|         1.0|     (1,[],[])|\n",
            "|                     99.998|Female| 22|                  95.6384|White| 63511| 63511|   1|       0.0|(2,[0],[1.0])|         1.0|     (1,[],[])|\n",
            "|                     99.937|Female| 23|                  99.6302|White| 73878| 73878|   2|       0.0|(2,[0],[1.0])|         1.0|     (1,[],[])|\n",
            "|                     99.962|  Male| 24|        96.66130000000001|Asian| 88181| 88181|   1|       1.0|(2,[1],[1.0])|         0.0| (1,[0],[1.0])|\n",
            "|                    98.5273|  Male| 36|                  83.8753|Asian| 36648| 36648|   1|       1.0|(2,[1],[1.0])|         0.0| (1,[0],[1.0])|\n",
            "|                    99.9589|  Male| 33|                  99.9191|Black| 50127| 50127|   1|       2.0|    (2,[],[])|         0.0| (1,[0],[1.0])|\n",
            "|                    99.7667|  Male| 37|                  99.6625|White|  5359|  5359|   4|       0.0|(2,[0],[1.0])|         0.0| (1,[0],[1.0])|\n",
            "|                     98.236|  Male| 21|                  99.7329|White| 25306| 25306|   1|       0.0|(2,[0],[1.0])|         0.0| (1,[0],[1.0])|\n",
            "|                    53.7713|Female| 36|                  99.8086|White| 33764| 33764|   1|       0.0|(2,[0],[1.0])|         1.0|     (1,[],[])|\n",
            "+---------------------------+------+---+-------------------------+-----+------+------+----+----------+-------------+------------+--------------+\n",
            "only showing top 20 rows\n",
            "\n"
          ]
        }
      ]
    },
    {
      "cell_type": "code",
      "source": [
        "from pyspark.ml.feature import VectorAssembler\n",
        "from pyspark.ml.regression import LinearRegression\n",
        "from pyspark.ml.evaluation import RegressionEvaluator\n",
        "from pyspark.ml.tuning import TrainValidationSplit"
      ],
      "metadata": {
        "id": "1OWhN9nFy8zU"
      },
      "execution_count": null,
      "outputs": []
    },
    {
      "cell_type": "code",
      "source": [
        "from pyspark.ml.feature import StringIndexer, OneHotEncoder\n",
        "from pyspark.ml import Pipeline\n",
        "\n",
        "# Assuming you have already loaded the data into a PySpark DataFrame named 'data'\n",
        "\n",
        "# Define the columns to be one-hot encoded\n",
        "categorical_columns = [\"race\", \"gender\"]\n",
        "\n",
        "# Create a list to store the stages of the pipeline\n",
        "stages = []\n",
        "\n",
        "# Iterate over the categorical columns and perform string indexing and one-hot encoding\n",
        "for column in categorical_columns:\n",
        "    # StringIndexer: Converts categorical values to numerical values\n",
        "    indexer = StringIndexer(inputCol=column, outputCol=column + \"_index\")\n",
        "    \n",
        "    # OneHotEncoder: Performs one-hot encoding on the indexed values\n",
        "    encoder = OneHotEncoder(inputCols=[indexer.getOutputCol()], outputCols=[column + \"_encoded\"])\n",
        "    \n",
        "    # Add the stages to the pipeline\n",
        "    stages += [indexer, encoder]\n",
        "\n",
        "# Create a pipeline with all the stages\n",
        "pipeline = Pipeline(stages=stages)\n",
        "\n",
        "# Fit the pipeline to the data\n",
        "pipeline_model = pipeline.fit(joined_2_df)\n",
        "\n",
        "# Transform the data using the pipeline\n",
        "transformed_data = pipeline_model.transform(joined_2_df)\n",
        "\n",
        "# Show the transformed data\n",
        "transformed_data.show()\n",
        "\n"
      ],
      "metadata": {
        "colab": {
          "base_uri": "https://localhost:8080/"
        },
        "id": "xjtQH6aezAYL",
        "outputId": "8fed73af-9b00-4624-dadd-5ba5182e2f4e"
      },
      "execution_count": null,
      "outputs": [
        {
          "output_type": "stream",
          "name": "stdout",
          "text": [
            "+---------------------------+------+---+-------------------------+-----+------+------+----+----------+-------------+------------+--------------+\n",
            "|attribute.gender.confidence|gender|age|attribute.race.confidence| race| user1| user1|   y|race_index| race_encoded|gender_index|gender_encoded|\n",
            "+---------------------------+------+---+-------------------------+-----+------+------+----+----------+-------------+------------+--------------+\n",
            "|                    99.8796|  Male| 15|                  99.0758|White| 41916| 41916|   1|       0.0|(2,[0],[1.0])|         0.0| (1,[0],[1.0])|\n",
            "|                    99.9933|  Male| 35|                  99.9917|White| 77331| 77331|   1|       0.0|(2,[0],[1.0])|         0.0| (1,[0],[1.0])|\n",
            "|                    99.9606|Female| 30|        98.40339999999999|White|103096|103096|   6|       0.0|(2,[0],[1.0])|         1.0|     (1,[],[])|\n",
            "|                    99.9941|  Male| 25|                  98.3757|Asian|112164|112164|   3|       1.0|(2,[1],[1.0])|         0.0| (1,[0],[1.0])|\n",
            "|                    99.9999|Female| 19|                  56.9226|White|114184|114184|   2|       0.0|(2,[0],[1.0])|         1.0|     (1,[],[])|\n",
            "|                    99.9767|Female| 10|                  99.9829|White|118071|  null|null|       0.0|(2,[0],[1.0])|         1.0|     (1,[],[])|\n",
            "|                    99.9976|Female| 25|                  84.3704|Asian|120472|120472|   2|       1.0|(2,[1],[1.0])|         1.0|     (1,[],[])|\n",
            "|                    99.1552|Female| 28|                  99.0188|White|  6340|  6340|   1|       0.0|(2,[0],[1.0])|         1.0|     (1,[],[])|\n",
            "|                    99.9999|Female| 18|                   99.846|Asian| 78390| 78390|   4|       1.0|(2,[1],[1.0])|         1.0|     (1,[],[])|\n",
            "|                    99.9753|  Male| 31|       48.574400000000004|White|116679|116679|   1|       0.0|(2,[0],[1.0])|         0.0| (1,[0],[1.0])|\n",
            "|                    99.9999|Female| 34|                  99.9626|White|118682|118682|   3|       0.0|(2,[0],[1.0])|         1.0|     (1,[],[])|\n",
            "|                    99.9923|Female| 28|                  99.0825|Asian| 52429| 52429|   1|       1.0|(2,[1],[1.0])|         1.0|     (1,[],[])|\n",
            "|                     99.998|Female| 22|                  95.6384|White| 63511| 63511|   1|       0.0|(2,[0],[1.0])|         1.0|     (1,[],[])|\n",
            "|                     99.937|Female| 23|                  99.6302|White| 73878| 73878|   2|       0.0|(2,[0],[1.0])|         1.0|     (1,[],[])|\n",
            "|                     99.962|  Male| 24|        96.66130000000001|Asian| 88181| 88181|   1|       1.0|(2,[1],[1.0])|         0.0| (1,[0],[1.0])|\n",
            "|                    98.5273|  Male| 36|                  83.8753|Asian| 36648| 36648|   1|       1.0|(2,[1],[1.0])|         0.0| (1,[0],[1.0])|\n",
            "|                    99.9589|  Male| 33|                  99.9191|Black| 50127| 50127|   1|       2.0|    (2,[],[])|         0.0| (1,[0],[1.0])|\n",
            "|                    99.7667|  Male| 37|                  99.6625|White|  5359|  5359|   4|       0.0|(2,[0],[1.0])|         0.0| (1,[0],[1.0])|\n",
            "|                     98.236|  Male| 21|                  99.7329|White| 25306| 25306|   1|       0.0|(2,[0],[1.0])|         0.0| (1,[0],[1.0])|\n",
            "|                    53.7713|Female| 36|                  99.8086|White| 33764| 33764|   1|       0.0|(2,[0],[1.0])|         1.0|     (1,[],[])|\n",
            "+---------------------------+------+---+-------------------------+-----+------+------+----+----------+-------------+------------+--------------+\n",
            "only showing top 20 rows\n",
            "\n"
          ]
        }
      ]
    },
    {
      "cell_type": "code",
      "source": [
        "# Drop the 'gender' and 'race' columns\n",
        "transformed_data = transformed_data.drop(\"gender\", \"race\")\n",
        "\n",
        "# Show the updated DataFrame\n",
        "transformed_data.show()"
      ],
      "metadata": {
        "colab": {
          "base_uri": "https://localhost:8080/"
        },
        "id": "KkcW6vCizDZ9",
        "outputId": "5c6a8638-29b2-4016-fd0b-9ced290515b4"
      },
      "execution_count": null,
      "outputs": [
        {
          "output_type": "stream",
          "name": "stdout",
          "text": [
            "+---------------------------+---+-------------------------+------+------+----+----------+-------------+------------+--------------+\n",
            "|attribute.gender.confidence|age|attribute.race.confidence| user1| user1|   y|race_index| race_encoded|gender_index|gender_encoded|\n",
            "+---------------------------+---+-------------------------+------+------+----+----------+-------------+------------+--------------+\n",
            "|                    99.8796| 15|                  99.0758| 41916| 41916|   1|       0.0|(2,[0],[1.0])|         0.0| (1,[0],[1.0])|\n",
            "|                    99.9933| 35|                  99.9917| 77331| 77331|   1|       0.0|(2,[0],[1.0])|         0.0| (1,[0],[1.0])|\n",
            "|                    99.9606| 30|        98.40339999999999|103096|103096|   6|       0.0|(2,[0],[1.0])|         1.0|     (1,[],[])|\n",
            "|                    99.9941| 25|                  98.3757|112164|112164|   3|       1.0|(2,[1],[1.0])|         0.0| (1,[0],[1.0])|\n",
            "|                    99.9999| 19|                  56.9226|114184|114184|   2|       0.0|(2,[0],[1.0])|         1.0|     (1,[],[])|\n",
            "|                    99.9767| 10|                  99.9829|118071|  null|null|       0.0|(2,[0],[1.0])|         1.0|     (1,[],[])|\n",
            "|                    99.9976| 25|                  84.3704|120472|120472|   2|       1.0|(2,[1],[1.0])|         1.0|     (1,[],[])|\n",
            "|                    99.1552| 28|                  99.0188|  6340|  6340|   1|       0.0|(2,[0],[1.0])|         1.0|     (1,[],[])|\n",
            "|                    99.9999| 18|                   99.846| 78390| 78390|   4|       1.0|(2,[1],[1.0])|         1.0|     (1,[],[])|\n",
            "|                    99.9753| 31|       48.574400000000004|116679|116679|   1|       0.0|(2,[0],[1.0])|         0.0| (1,[0],[1.0])|\n",
            "|                    99.9999| 34|                  99.9626|118682|118682|   3|       0.0|(2,[0],[1.0])|         1.0|     (1,[],[])|\n",
            "|                    99.9923| 28|                  99.0825| 52429| 52429|   1|       1.0|(2,[1],[1.0])|         1.0|     (1,[],[])|\n",
            "|                     99.998| 22|                  95.6384| 63511| 63511|   1|       0.0|(2,[0],[1.0])|         1.0|     (1,[],[])|\n",
            "|                     99.937| 23|                  99.6302| 73878| 73878|   2|       0.0|(2,[0],[1.0])|         1.0|     (1,[],[])|\n",
            "|                     99.962| 24|        96.66130000000001| 88181| 88181|   1|       1.0|(2,[1],[1.0])|         0.0| (1,[0],[1.0])|\n",
            "|                    98.5273| 36|                  83.8753| 36648| 36648|   1|       1.0|(2,[1],[1.0])|         0.0| (1,[0],[1.0])|\n",
            "|                    99.9589| 33|                  99.9191| 50127| 50127|   1|       2.0|    (2,[],[])|         0.0| (1,[0],[1.0])|\n",
            "|                    99.7667| 37|                  99.6625|  5359|  5359|   4|       0.0|(2,[0],[1.0])|         0.0| (1,[0],[1.0])|\n",
            "|                     98.236| 21|                  99.7329| 25306| 25306|   1|       0.0|(2,[0],[1.0])|         0.0| (1,[0],[1.0])|\n",
            "|                    53.7713| 36|                  99.8086| 33764| 33764|   1|       0.0|(2,[0],[1.0])|         1.0|     (1,[],[])|\n",
            "+---------------------------+---+-------------------------+------+------+----+----------+-------------+------------+--------------+\n",
            "only showing top 20 rows\n",
            "\n"
          ]
        }
      ]
    },
    {
      "cell_type": "code",
      "source": [
        "transformed_data=transformed_data.dropDuplicates()"
      ],
      "metadata": {
        "id": "d_dJQVTGzGHT"
      },
      "execution_count": null,
      "outputs": []
    },
    {
      "cell_type": "code",
      "source": [
        "# Assuming you have the DataFrame named 'transformed_data'\n",
        "\n",
        "# Rename the column\n",
        "transformed_data = transformed_data.withColumnRenamed(\"attribute.gender.confidence\", \"attribute_gender_confidence\")\n",
        "\n",
        "# Show the updated DataFrame\n",
        "transformed_data.show()\n"
      ],
      "metadata": {
        "colab": {
          "base_uri": "https://localhost:8080/"
        },
        "id": "MaPWXrfizIdp",
        "outputId": "5cb758b1-11fa-4e63-99b4-0823b3396010"
      },
      "execution_count": null,
      "outputs": [
        {
          "output_type": "stream",
          "name": "stdout",
          "text": [
            "+---------------------------+---+-------------------------+------+------+----+----------+-------------+------------+--------------+\n",
            "|attribute_gender_confidence|age|attribute.race.confidence| user1| user1|   y|race_index| race_encoded|gender_index|gender_encoded|\n",
            "+---------------------------+---+-------------------------+------+------+----+----------+-------------+------------+--------------+\n",
            "|                    99.9767| 10|                  99.9829|118071|  null|null|       0.0|(2,[0],[1.0])|         1.0|     (1,[],[])|\n",
            "|                    99.9998| 13|        84.53880000000001| 92105| 92105|   1|       1.0|(2,[1],[1.0])|         1.0|     (1,[],[])|\n",
            "|                     98.344| 18|                  99.7662| 77536| 77536|   1|       0.0|(2,[0],[1.0])|         1.0|     (1,[],[])|\n",
            "|                    99.9841| 17|                  78.8102|   159|   159|   1|       0.0|(2,[0],[1.0])|         0.0| (1,[0],[1.0])|\n",
            "|                    99.8987| 28|                  72.4708| 44592| 44592|   1|       1.0|(2,[1],[1.0])|         0.0| (1,[0],[1.0])|\n",
            "|                    99.9999| 12|                  99.9532|118431|118431|   3|       0.0|(2,[0],[1.0])|         1.0|     (1,[],[])|\n",
            "|                    99.8565|  7|                   99.553|106430|106430|   1|       0.0|(2,[0],[1.0])|         1.0|     (1,[],[])|\n",
            "|                    99.0793| 11|                  99.4175| 55744| 55744|   1|       0.0|(2,[0],[1.0])|         0.0| (1,[0],[1.0])|\n",
            "|                    99.9988| 27|                  99.9953| 34228|  null|null|       0.0|(2,[0],[1.0])|         0.0| (1,[0],[1.0])|\n",
            "|                    94.7539| 31|                  86.5532| 48998| 48998|   3|       0.0|(2,[0],[1.0])|         1.0|     (1,[],[])|\n",
            "|                    61.9465| 29|                  96.3665| 74529| 74529|   2|       0.0|(2,[0],[1.0])|         1.0|     (1,[],[])|\n",
            "|                    99.2165| 28|        99.80550000000001| 77445| 77445|   2|       0.0|(2,[0],[1.0])|         0.0| (1,[0],[1.0])|\n",
            "|                    99.9999| 24|                  90.9551| 70094| 70094|   1|       0.0|(2,[0],[1.0])|         1.0|     (1,[],[])|\n",
            "|                     99.788| 15|                  97.5905|115197|115197|   5|       0.0|(2,[0],[1.0])|         1.0|     (1,[],[])|\n",
            "|                    73.7607| 28|       43.269800000000004|121017|121017|   1|       0.0|(2,[0],[1.0])|         0.0| (1,[0],[1.0])|\n",
            "|                    98.5685| 32|                  99.2723|115216|115216|   1|       0.0|(2,[0],[1.0])|         1.0|     (1,[],[])|\n",
            "|                    99.2257| 15|        93.15299999999999| 84160| 84160|   1|       0.0|(2,[0],[1.0])|         1.0|     (1,[],[])|\n",
            "|                    99.9999| 13|                  98.6996|119213|119213|   2|       0.0|(2,[0],[1.0])|         1.0|     (1,[],[])|\n",
            "|                    99.9397| 18|                   99.064|116348|116348|   3|       1.0|(2,[1],[1.0])|         1.0|     (1,[],[])|\n",
            "|                    93.0339| 15|        99.99719999999999|119001|119001|   3|       0.0|(2,[0],[1.0])|         0.0| (1,[0],[1.0])|\n",
            "+---------------------------+---+-------------------------+------+------+----+----------+-------------+------------+--------------+\n",
            "only showing top 20 rows\n",
            "\n"
          ]
        }
      ]
    },
    {
      "cell_type": "code",
      "source": [
        "# Assuming you have the DataFrame named 'transformed_data'\n",
        "\n",
        "# Rename the column\n",
        "transformed_data = transformed_data.withColumnRenamed(\"attribute.race.confidence\", \"attribute_race_confidence\")\n",
        "\n",
        "# Show the updated DataFrame\n",
        "transformed_data.show()"
      ],
      "metadata": {
        "colab": {
          "base_uri": "https://localhost:8080/"
        },
        "id": "UbtWbnlDzKf8",
        "outputId": "d08ede6f-02d6-4bfe-d28c-9f3581c49a1c"
      },
      "execution_count": null,
      "outputs": [
        {
          "output_type": "stream",
          "name": "stdout",
          "text": [
            "+---------------------------+---+-------------------------+------+------+----+----------+-------------+------------+--------------+\n",
            "|attribute_gender_confidence|age|attribute_race_confidence| user1| user1|   y|race_index| race_encoded|gender_index|gender_encoded|\n",
            "+---------------------------+---+-------------------------+------+------+----+----------+-------------+------------+--------------+\n",
            "|                    99.9767| 10|                  99.9829|118071|  null|null|       0.0|(2,[0],[1.0])|         1.0|     (1,[],[])|\n",
            "|                    99.9998| 13|        84.53880000000001| 92105| 92105|   1|       1.0|(2,[1],[1.0])|         1.0|     (1,[],[])|\n",
            "|                     98.344| 18|                  99.7662| 77536| 77536|   1|       0.0|(2,[0],[1.0])|         1.0|     (1,[],[])|\n",
            "|                    99.9841| 17|                  78.8102|   159|   159|   1|       0.0|(2,[0],[1.0])|         0.0| (1,[0],[1.0])|\n",
            "|                    99.8987| 28|                  72.4708| 44592| 44592|   1|       1.0|(2,[1],[1.0])|         0.0| (1,[0],[1.0])|\n",
            "|                    99.9999| 12|                  99.9532|118431|118431|   3|       0.0|(2,[0],[1.0])|         1.0|     (1,[],[])|\n",
            "|                    99.8565|  7|                   99.553|106430|106430|   1|       0.0|(2,[0],[1.0])|         1.0|     (1,[],[])|\n",
            "|                    99.0793| 11|                  99.4175| 55744| 55744|   1|       0.0|(2,[0],[1.0])|         0.0| (1,[0],[1.0])|\n",
            "|                    99.9988| 27|                  99.9953| 34228|  null|null|       0.0|(2,[0],[1.0])|         0.0| (1,[0],[1.0])|\n",
            "|                    94.7539| 31|                  86.5532| 48998| 48998|   3|       0.0|(2,[0],[1.0])|         1.0|     (1,[],[])|\n",
            "|                    61.9465| 29|                  96.3665| 74529| 74529|   2|       0.0|(2,[0],[1.0])|         1.0|     (1,[],[])|\n",
            "|                    99.2165| 28|        99.80550000000001| 77445| 77445|   2|       0.0|(2,[0],[1.0])|         0.0| (1,[0],[1.0])|\n",
            "|                    99.9999| 24|                  90.9551| 70094| 70094|   1|       0.0|(2,[0],[1.0])|         1.0|     (1,[],[])|\n",
            "|                     99.788| 15|                  97.5905|115197|115197|   5|       0.0|(2,[0],[1.0])|         1.0|     (1,[],[])|\n",
            "|                    73.7607| 28|       43.269800000000004|121017|121017|   1|       0.0|(2,[0],[1.0])|         0.0| (1,[0],[1.0])|\n",
            "|                    98.5685| 32|                  99.2723|115216|115216|   1|       0.0|(2,[0],[1.0])|         1.0|     (1,[],[])|\n",
            "|                    99.2257| 15|        93.15299999999999| 84160| 84160|   1|       0.0|(2,[0],[1.0])|         1.0|     (1,[],[])|\n",
            "|                    99.9999| 13|                  98.6996|119213|119213|   2|       0.0|(2,[0],[1.0])|         1.0|     (1,[],[])|\n",
            "|                    99.9397| 18|                   99.064|116348|116348|   3|       1.0|(2,[1],[1.0])|         1.0|     (1,[],[])|\n",
            "|                    93.0339| 15|        99.99719999999999|119001|119001|   3|       0.0|(2,[0],[1.0])|         0.0| (1,[0],[1.0])|\n",
            "+---------------------------+---+-------------------------+------+------+----+----------+-------------+------------+--------------+\n",
            "only showing top 20 rows\n",
            "\n"
          ]
        }
      ]
    },
    {
      "cell_type": "code",
      "source": [
        "from pyspark.sql.functions import isnan, isnull\n",
        "\n",
        "# Check for null or NaN values in the target column\n",
        "null_count = transformed_data.filter(isnull(\"y\") | isnan(\"y\")).count()\n",
        "\n",
        "null_count"
      ],
      "metadata": {
        "colab": {
          "base_uri": "https://localhost:8080/"
        },
        "id": "qroxT4MLzMu1",
        "outputId": "ecdcdddf-7016-49c2-c476-692d22959262"
      },
      "execution_count": null,
      "outputs": [
        {
          "output_type": "execute_result",
          "data": {
            "text/plain": [
              "467"
            ]
          },
          "metadata": {},
          "execution_count": 59
        }
      ]
    },
    {
      "cell_type": "code",
      "source": [
        "# If there are null or NaN values, drop those rows\n",
        "if null_count > 0:\n",
        "    transformed_data = transformed_data.dropna(subset=[\"y\"])"
      ],
      "metadata": {
        "id": "iJhVOyb2zOoz"
      },
      "execution_count": null,
      "outputs": []
    },
    {
      "cell_type": "code",
      "source": [
        "# Perform an inner join on 'user1' column\n",
        "joined_with_demog = social_trxn.join(transformed_data, on='user1', how='inner')\n",
        "\n",
        "# Show the resulting joined DataFrame\n",
        "joined_with_demog.show()"
      ],
      "metadata": {
        "id": "wWd5Nf_wzQzS",
        "colab": {
          "base_uri": "https://localhost:8080/"
        },
        "outputId": "c3f370ac-3f8a-435a-f246-1008397395b2"
      },
      "execution_count": null,
      "outputs": [
        {
          "output_type": "stream",
          "name": "stdout",
          "text": [
            "+------+-------------------+---------------------------+--------------------------+-------------------+------------------+------------+----------+--------------+-----------+------------+----------+-------------+--------------------+---------------------+--------------+---------------------------+---+-------------------------+------+---+----------+-------------+------------+--------------+\n",
            "| user1|total_count_friends|total_friends_friends_count|avg_clustering_coefficient|     cumm_frequency|   average_recency|total_people|total_food|total_activity|total_event|total_travel|total_cash|total_utility|total_transportation|total_illegal_sarcasm|total_no_class|attribute_gender_confidence|age|attribute_race_confidence| user1|  y|race_index| race_encoded|gender_index|gender_encoded|\n",
            "+------+-------------------+---------------------------+--------------------------+-------------------+------------------+------------+----------+--------------+-----------+------------+----------+-------------+--------------------+---------------------+--------------+---------------------------+---+-------------------------+------+---+----------+-------------+------------+--------------+\n",
            "| 92105|                  1|                          0|                       0.0|0.03333333333333333|             180.0|         1.0|       0.0|           0.0|        0.0|         0.0|       0.0|          0.0|                 0.0|                  0.0|           0.0|                    99.9998| 13|        84.53880000000001| 92105|  1|       1.0|(2,[1],[1.0])|         1.0|     (1,[],[])|\n",
            "| 77536|                  1|                          0|                       0.0|0.03333333333333333|             180.0|         0.0|       1.0|           0.0|        0.0|         0.0|       0.0|          0.0|                 0.0|                  0.0|           0.0|                     98.344| 18|                  99.7662| 77536|  1|       0.0|(2,[0],[1.0])|         1.0|     (1,[],[])|\n",
            "|   159|                  1|                          0|                       0.0|0.03333333333333333|             180.0|         0.0|       1.0|           0.0|        0.0|         0.0|       0.0|          0.0|                 0.0|                  0.0|           0.0|                    99.9841| 17|                  78.8102|   159|  1|       0.0|(2,[0],[1.0])|         0.0| (1,[0],[1.0])|\n",
            "| 44592|                  2|                          1|                       0.0|0.03333333333333333|             180.0|         0.0|       0.0|           1.0|        0.0|         0.0|       0.0|          0.0|                 0.0|                  0.0|           0.0|                    99.8987| 28|                  72.4708| 44592|  1|       1.0|(2,[1],[1.0])|         0.0| (1,[0],[1.0])|\n",
            "|118431|                  3|                          0|                       0.0|                0.1| 71.46153846153847|         0.0|       0.0|           0.0|        0.0|         0.0|       0.0|          1.0|                 0.0|                  0.0|           2.0|                    99.9999| 12|                  99.9532|118431|  3|       0.0|(2,[0],[1.0])|         1.0|     (1,[],[])|\n",
            "|106430|                  1|                          2|                       0.0|0.03333333333333333|             180.0|         0.0|       1.0|           0.0|        0.0|         0.0|       0.0|          0.0|                 0.0|                  0.0|           0.0|                    99.8565|  7|                   99.553|106430|  1|       0.0|(2,[0],[1.0])|         1.0|     (1,[],[])|\n",
            "| 55744|                  1|                          0|                       0.0|0.03333333333333333|             180.0|         1.0|       0.0|           0.0|        0.0|         0.0|       0.0|          0.0|                 0.0|                  0.0|           0.0|                    99.0793| 11|                  99.4175| 55744|  1|       0.0|(2,[0],[1.0])|         0.0| (1,[0],[1.0])|\n",
            "| 48998|                  3|                          2|                       0.0|                0.1|  91.6923076923077|         1.0|       1.0|           0.0|        0.0|         0.0|       0.0|          0.0|                 0.0|                  0.0|           1.0|                    94.7539| 31|                  86.5532| 48998|  3|       0.0|(2,[0],[1.0])|         1.0|     (1,[],[])|\n",
            "| 74529|                  2|                          0|                       0.0|0.06666666666666667| 85.76923076923077|         0.0|       2.0|           0.0|        0.0|         0.0|       0.0|          0.0|                 0.0|                  0.0|           0.0|                    61.9465| 29|                  96.3665| 74529|  2|       0.0|(2,[0],[1.0])|         1.0|     (1,[],[])|\n",
            "| 77445|                  3|                          2|                       0.0|0.06666666666666667|178.15384615384616|         1.0|       0.0|           0.0|        0.0|         0.0|       0.0|          1.0|                 0.0|                  0.0|           0.0|                    99.2165| 28|        99.80550000000001| 77445|  2|       0.0|(2,[0],[1.0])|         0.0| (1,[0],[1.0])|\n",
            "| 70094|                  1|                          0|                       0.0|0.03333333333333333|             180.0|         0.0|       1.0|           0.0|        0.0|         0.0|       0.0|          0.0|                 0.0|                  0.0|           0.0|                    99.9999| 24|                  90.9551| 70094|  1|       0.0|(2,[0],[1.0])|         1.0|     (1,[],[])|\n",
            "|115197|                  5|                          0|                       0.0|0.16666666666666666| 44.92307692307692|         0.0|       0.0|           0.0|        0.0|         1.0|       0.0|          0.0|                 0.0|                  2.0|           2.0|                     99.788| 15|                  97.5905|115197|  5|       0.0|(2,[0],[1.0])|         1.0|     (1,[],[])|\n",
            "|121017|                  1|                          0|                       0.0|0.03333333333333333|             180.0|         1.0|       0.0|           0.0|        0.0|         0.0|       0.0|          0.0|                 0.0|                  0.0|           0.0|                    73.7607| 28|       43.269800000000004|121017|  1|       0.0|(2,[0],[1.0])|         0.0| (1,[0],[1.0])|\n",
            "|115216|                  1|                          0|                       0.0|0.03333333333333333|             180.0|         1.0|       0.0|           0.0|        0.0|         0.0|       0.0|          0.0|                 0.0|                  0.0|           0.0|                    98.5685| 32|                  99.2723|115216|  1|       0.0|(2,[0],[1.0])|         1.0|     (1,[],[])|\n",
            "| 84160|                  1|                          0|                       0.0|0.03333333333333333|             180.0|         0.0|       1.0|           0.0|        0.0|         0.0|       0.0|          0.0|                 0.0|                  0.0|           0.0|                    99.2257| 15|        93.15299999999999| 84160|  1|       0.0|(2,[0],[1.0])|         1.0|     (1,[],[])|\n",
            "|119213|                  2|                          1|                       0.0|0.06666666666666667| 90.92307692307692|         0.0|       0.0|           1.0|        0.0|         0.0|       0.0|          0.0|                 0.0|                  1.0|           0.0|                    99.9999| 13|                  98.6996|119213|  2|       0.0|(2,[0],[1.0])|         1.0|     (1,[],[])|\n",
            "|116348|                  3|                          0|                       0.0|                0.1| 96.07692307692308|         0.0|       2.0|           0.0|        0.0|         0.0|       0.0|          0.0|                 0.0|                  0.0|           1.0|                    99.9397| 18|                   99.064|116348|  3|       1.0|(2,[1],[1.0])|         1.0|     (1,[],[])|\n",
            "|119001|                  3|                          0|                       0.0|                0.1|106.76923076923077|         1.0|       1.0|           0.0|        1.0|         0.0|       0.0|          0.0|                 0.0|                  0.0|           0.0|                    93.0339| 15|        99.99719999999999|119001|  3|       0.0|(2,[0],[1.0])|         0.0| (1,[0],[1.0])|\n",
            "| 94635|                  1|                          0|                       0.0|0.03333333333333333|             180.0|         1.0|       0.0|           0.0|        0.0|         0.0|       0.0|          0.0|                 0.0|                  0.0|           0.0|                    99.3083| 35|                  99.7652| 94635|  1|       0.0|(2,[0],[1.0])|         0.0| (1,[0],[1.0])|\n",
            "| 54681|                  1|                          0|                       0.0|0.03333333333333333|             180.0|         0.0|       1.0|           0.0|        0.0|         0.0|       0.0|          0.0|                 0.0|                  0.0|           0.0|                    99.9521| 24|                  99.9615| 54681|  1|       0.0|(2,[0],[1.0])|         1.0|     (1,[],[])|\n",
            "+------+-------------------+---------------------------+--------------------------+-------------------+------------------+------------+----------+--------------+-----------+------------+----------+-------------+--------------------+---------------------+--------------+---------------------------+---+-------------------------+------+---+----------+-------------+------------+--------------+\n",
            "only showing top 20 rows\n",
            "\n"
          ]
        }
      ]
    },
    {
      "cell_type": "code",
      "source": [
        "joined_with_demog.columns"
      ],
      "metadata": {
        "colab": {
          "base_uri": "https://localhost:8080/"
        },
        "id": "y1I8v0oF0q5x",
        "outputId": "d9977444-7cba-4ed3-c469-d5064b0ea8c1"
      },
      "execution_count": null,
      "outputs": [
        {
          "output_type": "execute_result",
          "data": {
            "text/plain": [
              "['user1',\n",
              " 'total_count_friends',\n",
              " 'total_friends_friends_count',\n",
              " 'avg_clustering_coefficient',\n",
              " 'cumm_frequency',\n",
              " 'average_recency',\n",
              " 'total_people',\n",
              " 'total_food',\n",
              " 'total_activity',\n",
              " 'total_event',\n",
              " 'total_travel',\n",
              " 'total_cash',\n",
              " 'total_utility',\n",
              " 'total_transportation',\n",
              " 'total_illegal_sarcasm',\n",
              " 'total_no_class',\n",
              " 'attribute_gender_confidence',\n",
              " 'age',\n",
              " 'attribute_race_confidence',\n",
              " 'user1',\n",
              " 'y',\n",
              " 'race_index',\n",
              " 'race_encoded',\n",
              " 'gender_index',\n",
              " 'gender_encoded']"
            ]
          },
          "metadata": {},
          "execution_count": 63
        }
      ]
    },
    {
      "cell_type": "code",
      "source": [
        "from pyspark.ml.feature import VectorAssembler\n",
        "from pyspark.ml.regression import LinearRegression\n",
        "from pyspark.ml.evaluation import RegressionEvaluator\n",
        "\n",
        "# Assuming you have the transformed DataFrame named 'transformed_data'\n",
        "\n",
        "# Select the relevant columns as features and target variable\n",
        "feature_columns = ['total_count_friends',\n",
        " 'total_friends_friends_count',\n",
        " 'avg_clustering_coefficient'\n",
        " ]\n",
        "target_column = \"y\"\n",
        "\n",
        "# Create a VectorAssembler to combine the feature columns into a single \"features\" column\n",
        "assembler = VectorAssembler(inputCols=feature_columns, outputCol=\"features\")"
      ],
      "metadata": {
        "id": "tw7ggU_z1JT6"
      },
      "execution_count": null,
      "outputs": []
    },
    {
      "cell_type": "code",
      "source": [
        "# Transform the data using the VectorAssembler\n",
        "assembled_data = assembler.transform(joined_with_demog)"
      ],
      "metadata": {
        "id": "HziMMWqL10XM"
      },
      "execution_count": null,
      "outputs": []
    },
    {
      "cell_type": "code",
      "source": [
        "# Split the data into train and test sets\n",
        "train_data, test_data = assembled_data.randomSplit([0.7, 0.3], seed=123)\n",
        "\n",
        "# Create a LinearRegression model\n",
        "lr = LinearRegression(featuresCol=\"features\", labelCol=target_column)\n",
        "\n",
        "# Fit the model to the training data\n",
        "lr_model = lr.fit(train_data)\n",
        "\n",
        "# Make predictions on the test data\n",
        "predictions = lr_model.transform(test_data)\n",
        "\n",
        "# Evaluate the model's performance using a RegressionEvaluator\n",
        "evaluator = RegressionEvaluator(labelCol=target_column, predictionCol=\"prediction\", metricName=\"rmse\")\n",
        "rmse_all_demog = evaluator.evaluate(predictions)\n",
        "\n",
        "# Print the root mean squared error (RMSE)\n",
        "print(\"(RMSE) for only demographic data:\", rmse_all_demog)"
      ],
      "metadata": {
        "colab": {
          "base_uri": "https://localhost:8080/"
        },
        "id": "YUdexLmo12dh",
        "outputId": "83ab1fc3-63c7-4037-85ee-73cd40acaa32"
      },
      "execution_count": null,
      "outputs": [
        {
          "output_type": "stream",
          "name": "stdout",
          "text": [
            "(RMSE) for only demographic data: 0.6552247612411186\n"
          ]
        }
      ]
    },
    {
      "cell_type": "code",
      "source": [
        "from pyspark.ml.evaluation import RegressionEvaluator\n",
        "\n",
        "# ...\n",
        "\n",
        "# Evaluate the model's performance using a RegressionEvaluator\n",
        "evaluator = RegressionEvaluator(labelCol=target_column, predictionCol=\"prediction\", metricName=\"r2\")\n",
        "r2 = evaluator.evaluate(predictions)\n",
        "\n",
        "# Print the R-squared value\n",
        "print(\"R-squared:\", r2)"
      ],
      "metadata": {
        "colab": {
          "base_uri": "https://localhost:8080/"
        },
        "id": "SWrtW22chvxy",
        "outputId": "8df40a5e-39a1-4ea5-c2dc-313b875f2814"
      },
      "execution_count": null,
      "outputs": [
        {
          "output_type": "stream",
          "name": "stdout",
          "text": [
            "R-squared: 0.8644513785331445\n"
          ]
        }
      ]
    },
    {
      "cell_type": "code",
      "source": [
        "\n",
        "# Print the root mean squared error (RMSE)\n",
        "print(\"(RMSE) for all + demographic data:\", rmse_all_demog)\n",
        "\n",
        "\n",
        "# Print the root mean squared error (RMSE)\n",
        "print(\"(RMSE) for all:\", rmse_all)"
      ],
      "metadata": {
        "colab": {
          "base_uri": "https://localhost:8080/"
        },
        "id": "K6L9ETKy2AXN",
        "outputId": "c12d2afc-9c91-4d50-e44a-dafc6d926b9c"
      },
      "execution_count": null,
      "outputs": [
        {
          "output_type": "stream",
          "name": "stdout",
          "text": [
            "(RMSE) for all + demographic data: 8.413787430082238e-08\n",
            "(RMSE) for all: 1.087189788301661e-12\n"
          ]
        }
      ]
    }
  ]
}